{
  "nbformat": 4,
  "nbformat_minor": 0,
  "metadata": {
    "colab": {
      "name": "21.01.06[연습문제].ipynb",
      "provenance": [],
      "include_colab_link": true
    },
    "kernelspec": {
      "name": "python3",
      "display_name": "Python 3"
    }
  },
  "cells": [
    {
      "cell_type": "markdown",
      "metadata": {
        "id": "view-in-github",
        "colab_type": "text"
      },
      "source": [
        "<a href=\"https://colab.research.google.com/github/JangAyeon/Python_Lecture/blob/master/21.01.06%5B%EC%97%B0%EC%8A%B5%EB%AC%B8%EC%A0%9C%5D.ipynb\" target=\"_parent\"><img src=\"https://colab.research.google.com/assets/colab-badge.svg\" alt=\"Open In Colab\"/></a>"
      ]
    },
    {
      "cell_type": "code",
      "metadata": {
        "colab": {
          "base_uri": "https://localhost:8080/"
        },
        "id": "VLnTad9sgbXO",
        "outputId": "fe8cd807-084b-4735-f82d-b4d658f3bec5"
      },
      "source": [
        "#2 : input()을 이용하여 사용자로부터 숫자를 입력 받은 후, 입력 받은 숫자를 변수 num에 float 형태로 저장한 후, num 값을 출력해봅시다\r\n",
        "\r\n",
        "num=float(input(\"숫자를 입력하시오: \"))\r\n",
        "print(num)"
      ],
      "execution_count": null,
      "outputs": [
        {
          "output_type": "stream",
          "text": [
            "숫자를 입력하시오: 1.0\n",
            "1.0\n"
          ],
          "name": "stdout"
        }
      ]
    },
    {
      "cell_type": "code",
      "metadata": {
        "colab": {
          "base_uri": "https://localhost:8080/"
        },
        "id": "fmHH6joQgk9K",
        "outputId": "29e5f94e-4f39-417f-e388-d5f3f722e249"
      },
      "source": [
        "#3 : 밝기 수준이 0.01 럭스보다 작거나, 온도가 영상일 때 켜지는 스위치가 있습니다. 사용자로부터 밝기(light)와 온도(temp)를 입력 받으면 스위치의 ON/OFF 여부를 출력하도록 프로그램을 작성하시오.\r\n",
        "\r\n",
        "light=float(input(\"밝기를 입력하시오: \"))\r\n",
        "temp=float(input(\"온도를 입력하시오: \"))\r\n",
        "\r\n",
        "if light<0.01 or temp>0:\r\n",
        "  print(\"스위치: 켜짐\")\r\n",
        "else:\r\n",
        "  print(\"꺼짐\")"
      ],
      "execution_count": null,
      "outputs": [
        {
          "output_type": "stream",
          "text": [
            "밝기를 입력하시오: 1\n",
            "온도를 입력하시오: -1\n",
            "꺼짐\n"
          ],
          "name": "stdout"
        }
      ]
    },
    {
      "cell_type": "code",
      "metadata": {
        "colab": {
          "base_uri": "https://localhost:8080/"
        },
        "id": "ZH5OxLC5hRXG",
        "outputId": "3657d84d-603e-4f12-c757-2844dbce4dcc"
      },
      "source": [
        "#4 : 변수 appointment는 다음과 같은 값을 가집니다. 리스트에 ’16:30’을 추가하세요. [ ‘9:00’, ’11:00’, ’12:30’, ’15:15’ ]\r\n",
        "\r\n",
        "appointment=['9:00','11:00','12:30','15:15']\r\n",
        "appointment.append(\"16:30\")\r\n",
        "print(appointment)"
      ],
      "execution_count": null,
      "outputs": [
        {
          "output_type": "stream",
          "text": [
            "['9:00', '11:00', '12:30', '15:15', '16:30']\n"
          ],
          "name": "stdout"
        }
      ]
    },
    {
      "cell_type": "code",
      "metadata": {
        "colab": {
          "base_uri": "https://localhost:8080/"
        },
        "id": "ejw3EAWIhrk_",
        "outputId": "d9e42d4c-2d4c-4f01-d120-259a3aff6ef4"
      },
      "source": [
        "#5 : 리스트 [ ‘Emb’, ‘Him’, ‘Unc’, ‘Lon’, ‘Dpy’, ‘Sma’ ]의 값을 아래와 같이 출력하도록 프로그램을 작성하시오. 출력 : Emb Him Unc Lon Dpy Sma\r\n",
        "\r\n",
        "lst=['Emb','Him','Unc','Loc','Dpy','Sma']\r\n",
        "str1=\"\"\r\n",
        "\r\n",
        "for x in lst:\r\n",
        "  str1+=x\r\n",
        "  str1+=' '\r\n",
        "\r\n",
        "print(str1)\r\n"
      ],
      "execution_count": null,
      "outputs": [
        {
          "output_type": "stream",
          "text": [
            "Emb Him Unc Loc Dpy Sma \n"
          ],
          "name": "stdout"
        }
      ]
    },
    {
      "cell_type": "code",
      "metadata": {
        "id": "NTxKrmFNnOpH"
      },
      "source": [
        ""
      ],
      "execution_count": null,
      "outputs": []
    }
  ]
}