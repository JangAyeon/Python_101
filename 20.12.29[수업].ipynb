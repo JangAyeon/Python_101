{
  "nbformat": 4,
  "nbformat_minor": 0,
  "metadata": {
    "kernelspec": {
      "display_name": "Python 3",
      "language": "python",
      "name": "python3"
    },
    "language_info": {
      "codemirror_mode": {
        "name": "ipython",
        "version": 3
      },
      "file_extension": ".py",
      "mimetype": "text/x-python",
      "name": "python",
      "nbconvert_exporter": "python",
      "pygments_lexer": "ipython3",
      "version": "3.8.5"
    },
    "colab": {
      "name": "20.12.29[수업].ipynb",
      "provenance": [],
      "include_colab_link": true
    }
  },
  "cells": [
    {
      "cell_type": "markdown",
      "metadata": {
        "id": "view-in-github",
        "colab_type": "text"
      },
      "source": [
        "<a href=\"https://colab.research.google.com/github/JangAyeon/Python_Lecture/blob/master/20.12.29%5B%EC%88%98%EC%97%85%5D.ipynb\" target=\"_parent\"><img src=\"https://colab.research.google.com/assets/colab-badge.svg\" alt=\"Open In Colab\"/></a>"
      ]
    },
    {
      "cell_type": "code",
      "metadata": {
        "id": "dc4wDnDhkzF6",
        "outputId": "fc4f1aab-7179-4f29-83ba-2889ddc32729"
      },
      "source": [
        "x=5\n",
        "X=10\n",
        "print(\"x:\",x)\n",
        "print(\"X:\",X)\n",
        "\n",
        "#x와 X는 각각 다른 값을 보여줌 -> 같은 변수가 아님"
      ],
      "execution_count": null,
      "outputs": [
        {
          "output_type": "stream",
          "text": [
            "x: 5\n",
            "X: 10\n"
          ],
          "name": "stdout"
        }
      ]
    },
    {
      "cell_type": "code",
      "metadata": {
        "id": "1x_7GhgQkzGC",
        "outputId": "5474e6fe-b770-452c-af7c-a92295d2e2ba"
      },
      "source": [
        "word_count=6\n",
        "_Max=10\n",
        "print(\"word_count:\",word_count)\n",
        "print(\"_Max:\",_Max)\n",
        "\n",
        "#밑줄 문자 변수에 사용 가능"
      ],
      "execution_count": null,
      "outputs": [
        {
          "output_type": "stream",
          "text": [
            "word_count: 6\n",
            "_Max: 10\n"
          ],
          "name": "stdout"
        }
      ]
    },
    {
      "cell_type": "code",
      "metadata": {
        "id": "RaMBZvc-kzGG",
        "outputId": "52c67e40-869b-4124-95da-adf4dff2b0d1"
      },
      "source": [
        "space2020='space2020'\n",
        "print(\"space2020:\",space2020)\n",
        "\n",
        "#변수명에서 숫자가 맨 앞에 등장하는 것 아니면 사용가능\n",
        "#변수에 문자열도 대입 가능 -> 숫자 문자에 따른 형식을 따로 지정할 필요없음"
      ],
      "execution_count": null,
      "outputs": [
        {
          "output_type": "stream",
          "text": [
            "space2020: space2020\n"
          ],
          "name": "stdout"
        }
      ]
    },
    {
      "cell_type": "code",
      "metadata": {
        "id": "0c1L5AqZkzGI",
        "outputId": "d0f58cb5-74c5-4c05-d8af-dd3318b5e563"
      },
      "source": [
        "no-way!=100\n",
        "no-way\n",
        "\n",
        "# !는 변수 이름으로 사용 불가한 특수 문자"
      ],
      "execution_count": null,
      "outputs": [
        {
          "output_type": "error",
          "ename": "NameError",
          "evalue": "name 'no' is not defined",
          "traceback": [
            "\u001b[1;31m---------------------------------------------------------------------------\u001b[0m",
            "\u001b[1;31mNameError\u001b[0m                                 Traceback (most recent call last)",
            "\u001b[1;32m<ipython-input-14-16718576f8c4>\u001b[0m in \u001b[0;36m<module>\u001b[1;34m\u001b[0m\n\u001b[1;32m----> 1\u001b[1;33m \u001b[0mno\u001b[0m\u001b[1;33m-\u001b[0m\u001b[0mway\u001b[0m\u001b[1;33m!=\u001b[0m\u001b[1;36m100\u001b[0m\u001b[1;33m\u001b[0m\u001b[1;33m\u001b[0m\u001b[0m\n\u001b[0m\u001b[0;32m      2\u001b[0m \u001b[0mno\u001b[0m\u001b[1;33m-\u001b[0m\u001b[0mway\u001b[0m\u001b[1;33m\u001b[0m\u001b[1;33m\u001b[0m\u001b[0m\n\u001b[0;32m      3\u001b[0m \u001b[1;33m\u001b[0m\u001b[0m\n\u001b[0;32m      4\u001b[0m \u001b[1;31m# !는 변수 이름으로 사용 불가한 특수 문자\u001b[0m\u001b[1;33m\u001b[0m\u001b[1;33m\u001b[0m\u001b[1;33m\u001b[0m\u001b[0m\n",
            "\u001b[1;31mNameError\u001b[0m: name 'no' is not defined"
          ]
        }
      ]
    },
    {
      "cell_type": "code",
      "metadata": {
        "id": "Yo3ghujqkzGZ",
        "outputId": "f1bf7e95-14a0-439d-f371-0b004fab240e"
      },
      "source": [
        "2nd=10\n",
        "2nd\n",
        "#변수 이름 숫자로 시작할 수 없음"
      ],
      "execution_count": null,
      "outputs": [
        {
          "output_type": "error",
          "ename": "SyntaxError",
          "evalue": "invalid syntax (<ipython-input-15-8074af29039f>, line 1)",
          "traceback": [
            "\u001b[1;36m  File \u001b[1;32m\"<ipython-input-15-8074af29039f>\"\u001b[1;36m, line \u001b[1;32m1\u001b[0m\n\u001b[1;33m    2nd=10\u001b[0m\n\u001b[1;37m      ^\u001b[0m\n\u001b[1;31mSyntaxError\u001b[0m\u001b[1;31m:\u001b[0m invalid syntax\n"
          ]
        }
      ]
    },
    {
      "cell_type": "code",
      "metadata": {
        "id": "prw0whMdkzGd",
        "outputId": "7f87dcc9-e10c-4355-8af3-4d3d947d993f"
      },
      "source": [
        "a b c=\"abc\"\n",
        "a b c\n",
        "#변수 이름에 공백 사용 불가"
      ],
      "execution_count": null,
      "outputs": [
        {
          "output_type": "error",
          "ename": "SyntaxError",
          "evalue": "invalid syntax (<ipython-input-19-809e03c3fc90>, line 1)",
          "traceback": [
            "\u001b[1;36m  File \u001b[1;32m\"<ipython-input-19-809e03c3fc90>\"\u001b[1;36m, line \u001b[1;32m1\u001b[0m\n\u001b[1;33m    a b c=\"abc\"\u001b[0m\n\u001b[1;37m      ^\u001b[0m\n\u001b[1;31mSyntaxError\u001b[0m\u001b[1;31m:\u001b[0m invalid syntax\n"
          ]
        }
      ]
    },
    {
      "cell_type": "code",
      "metadata": {
        "id": "eZWtIzrNkzGg",
        "outputId": "e118efee-c0d6-4755-fd28-76733fd5dbeb"
      },
      "source": [
        "True=\"real\"\n",
        "True\n",
        "#예약어 변수 이름으로 사용 불가 (이미 다른 용도로 사용되고 있기 때문)"
      ],
      "execution_count": null,
      "outputs": [
        {
          "output_type": "error",
          "ename": "SyntaxError",
          "evalue": "can't assign to keyword (<ipython-input-20-47fae7ed248a>, line 1)",
          "traceback": [
            "\u001b[1;36m  File \u001b[1;32m\"<ipython-input-20-47fae7ed248a>\"\u001b[1;36m, line \u001b[1;32m1\u001b[0m\n\u001b[1;33m    True=\"real\"\u001b[0m\n\u001b[1;37m               ^\u001b[0m\n\u001b[1;31mSyntaxError\u001b[0m\u001b[1;31m:\u001b[0m can't assign to keyword\n"
          ]
        }
      ]
    },
    {
      "cell_type": "markdown",
      "metadata": {
        "id": "B4LUiKtykzGh"
      },
      "source": [
        ""
      ]
    },
    {
      "cell_type": "code",
      "metadata": {
        "id": "sfgMELMWkzGi",
        "outputId": "1fad7161-ae33-409a-a579-dfe03ee82e0e"
      },
      "source": [
        "#Syntax error (구문 오류): 코드, 문법적인 규칙 안 지켜서 생긴 오류\n",
        "#Semantic error (의미 오류): 구문 자체는 오류 없지만 현재 못 하는 일을 시켰을 때\n",
        "    3+abc #NameError: name 'abc' is not defined\n",
        "    5/0 #ZeroDivisionError: division by zero"
      ],
      "execution_count": null,
      "outputs": [
        {
          "output_type": "error",
          "ename": "ZeroDivisionError",
          "evalue": "division by zero",
          "traceback": [
            "\u001b[1;31m---------------------------------------------------------------------------\u001b[0m",
            "\u001b[1;31mZeroDivisionError\u001b[0m                         Traceback (most recent call last)",
            "\u001b[1;32m<ipython-input-22-9879920f3c59>\u001b[0m in \u001b[0;36m<module>\u001b[1;34m\u001b[0m\n\u001b[0;32m      2\u001b[0m \u001b[1;31m#Semantic error (의미 오류): 구문 자체는 오류 없지만 현재 못 하는 일을 시켰을 때\u001b[0m\u001b[1;33m\u001b[0m\u001b[1;33m\u001b[0m\u001b[1;33m\u001b[0m\u001b[0m\n\u001b[0;32m      3\u001b[0m \u001b[1;31m#3+abc #NameError: name 'abc' is not defined\u001b[0m\u001b[1;33m\u001b[0m\u001b[1;33m\u001b[0m\u001b[1;33m\u001b[0m\u001b[0m\n\u001b[1;32m----> 4\u001b[1;33m \u001b[1;36m5\u001b[0m\u001b[1;33m/\u001b[0m\u001b[1;36m0\u001b[0m\u001b[1;33m\u001b[0m\u001b[1;33m\u001b[0m\u001b[0m\n\u001b[0m",
            "\u001b[1;31mZeroDivisionError\u001b[0m: division by zero"
          ]
        }
      ]
    },
    {
      "cell_type": "markdown",
      "metadata": {
        "id": "XtFR-41wkzGk"
      },
      "source": [
        "#변수 생성\n",
        "->형식 제한/선언 없이 변수에 값을 할당하여 새 변수 생성\n",
        "-> = 는 동등의 의미가 아니라 대입연산자 , 할당한다는 의미\n",
        "-> 변수이름 = 값"
      ]
    },
    {
      "cell_type": "code",
      "metadata": {
        "id": "R2PLt90rkzGl",
        "outputId": "01eef6da-9442-4ab8-efb0-32f3e42aeee3"
      },
      "source": [
        "Korean = 90\n",
        "English = 80\n",
        "Math = 85\n",
        "\n",
        "Math"
      ],
      "execution_count": null,
      "outputs": [
        {
          "output_type": "execute_result",
          "data": {
            "text/plain": [
              "85"
            ]
          },
          "metadata": {
            "tags": []
          },
          "execution_count": 24
        }
      ]
    },
    {
      "cell_type": "code",
      "metadata": {
        "id": "X8UnhPqGkzGn"
      },
      "source": [
        "sum = Korean + English + Math\n",
        "sum"
      ],
      "execution_count": null,
      "outputs": []
    },
    {
      "cell_type": "markdown",
      "metadata": {
        "id": "ZbDsPLaRkzGo"
      },
      "source": [
        "#값,변수,메모리\n",
        " ->메모리:컴퓨터 장치 중 정보를 저장하기 위한 장치 \n",
        " ->주소를 이용해서 값을 구분\n",
        " \n",
        " #값은 메모리 주소를 가지게 되고 변수는 그 메모리 주소가 할당됨 따라서 변수는 값을 참조함"
      ]
    },
    {
      "cell_type": "code",
      "metadata": {
        "id": "3OwUV7AEkzGo"
      },
      "source": [
        "x=10\n",
        "sum=x\n",
        "name=\"이화인\""
      ],
      "execution_count": null,
      "outputs": []
    },
    {
      "cell_type": "markdown",
      "metadata": {
        "id": "sAi2umTxkzGp"
      },
      "source": [
        "#할당문\n",
        " -> 변수 = 표현식\n",
        " -> (1) 표현식의 값을 먼저 계산함 (2)계산된 최종 값을 메모리에 저장함 (3) 그 값을 가지는 메모리 주소를 변수에 저장\n",
        " -> 새로운 변수면 생성하고 기존에 있던 변수면 메모리 주소를 변경해줌"
      ]
    },
    {
      "cell_type": "code",
      "metadata": {
        "id": "LXLoGXw-kzGp",
        "outputId": "638e7de6-7a65-4474-cacf-87f339c2987e"
      },
      "source": [
        "variable=3+5\n",
        "variable\n",
        "#variable은 8이 저장된 주소를 가지고 있다가 값을 쓸 때 주소를 가지고 찾아가서 값을 출력함"
      ],
      "execution_count": null,
      "outputs": [
        {
          "output_type": "execute_result",
          "data": {
            "text/plain": [
              "8"
            ]
          },
          "metadata": {
            "tags": []
          },
          "execution_count": 26
        }
      ]
    },
    {
      "cell_type": "markdown",
      "metadata": {
        "id": "kWCaTc-9kzGq"
      },
      "source": [
        "#변수에 재할당\n",
        "-> 변수 x를 이용해 다른 변수 y에 값을 할당하더라도 원래 변수 x의 값 변경이 다른 변수 y에 영향을 미치지 않음"
      ]
    },
    {
      "cell_type": "code",
      "metadata": {
        "id": "G_0TvHCRkzGq",
        "outputId": "b7a60908-f279-4ab0-e5f9-659c6e65f57f"
      },
      "source": [
        "x=10\n",
        "y=2*x\n",
        "print(\"x:\",x,\"y:\",y)\n",
        "x=5\n",
        "print(\"x:\",x,\"y:\",y)"
      ],
      "execution_count": null,
      "outputs": [
        {
          "output_type": "stream",
          "text": [
            "x: 10 y: 20\n",
            "x: 5 y: 20\n"
          ],
          "name": "stdout"
        }
      ]
    },
    {
      "cell_type": "code",
      "metadata": {
        "id": "QcrC1uZWkzGs",
        "outputId": "b25c06e8-6b7e-4558-f642-6a49fe57101f"
      },
      "source": [
        "z=10\n",
        "print(\"z:\",z)\n",
        "z=z+z\n",
        "print(\"z:\",z)"
      ],
      "execution_count": null,
      "outputs": [
        {
          "output_type": "stream",
          "text": [
            "z: 10\n",
            "z: 20\n"
          ],
          "name": "stdout"
        }
      ]
    }
  ]
}