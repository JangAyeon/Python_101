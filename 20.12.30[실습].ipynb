{
  "nbformat": 4,
  "nbformat_minor": 0,
  "metadata": {
    "kernelspec": {
      "display_name": "Python 3",
      "language": "python",
      "name": "python3"
    },
    "language_info": {
      "codemirror_mode": {
        "name": "ipython",
        "version": 3
      },
      "file_extension": ".py",
      "mimetype": "text/x-python",
      "name": "python",
      "nbconvert_exporter": "python",
      "pygments_lexer": "ipython3",
      "version": "3.8.5"
    },
    "colab": {
      "name": "20.12.30[실습].ipynb",
      "provenance": [],
      "collapsed_sections": [],
      "include_colab_link": true
    }
  },
  "cells": [
    {
      "cell_type": "markdown",
      "metadata": {
        "id": "view-in-github",
        "colab_type": "text"
      },
      "source": [
        "<a href=\"https://colab.research.google.com/github/JangAyeon/Python_Lecture/blob/master/20.12.30%5B%EC%8B%A4%EC%8A%B5%5D.ipynb\" target=\"_parent\"><img src=\"https://colab.research.google.com/assets/colab-badge.svg\" alt=\"Open In Colab\"/></a>"
      ]
    },
    {
      "cell_type": "code",
      "metadata": {
        "id": "gWAlZdVWmmuP",
        "outputId": "7740f085-7a1e-4e9a-b243-a91fdff853e3"
      },
      "source": [
        "#1번\n",
        "\n",
        "temp=float(input())\n",
        "temp=temp*1.8+32\n",
        "print(temp)"
      ],
      "execution_count": null,
      "outputs": [
        {
          "output_type": "stream",
          "text": [
            "10\n",
            "50.0\n"
          ],
          "name": "stdout"
        }
      ]
    },
    {
      "cell_type": "code",
      "metadata": {
        "id": "s4_fO4rMmmui",
        "outputId": "05477675-78dc-47c7-d775-0db7f0b905e3"
      },
      "source": [
        "#2번 - case 1\n",
        "\n",
        "\n",
        "X=int(input())\n",
        "Y=int(input())\n",
        "\n",
        "print(\"X:\",X,\"Y\",Y)\n",
        "\n",
        "print('X>Y:',X>Y)\n",
        "print('X<Y:',X<Y)\n",
        "print('X>=Y:',X>=Y)\n",
        "print('X<=Y:',X<=Y)\n",
        "print('X!=Y:',X!=Y)\n",
        "print('X==Y:',X==Y)\n"
      ],
      "execution_count": null,
      "outputs": [
        {
          "output_type": "stream",
          "text": [
            "5\n",
            "3\n",
            "X: 5 Y 3\n",
            "X>Y: True\n",
            "X<Y: False\n",
            "X>=Y: True\n",
            "X<=Y: False\n",
            "X!=Y: True\n",
            "X==Y: False\n"
          ],
          "name": "stdout"
        }
      ]
    },
    {
      "cell_type": "code",
      "metadata": {
        "id": "pWHzI9hPmmun",
        "outputId": "5b02522c-5772-4f4c-cc2d-2e7fb0bfb50f"
      },
      "source": [
        "#2번 - case 2\n",
        "X=int(input())\n",
        "Y=int(input())\n",
        "\n",
        "print(\"X:\",X,\"Y\",Y)\n",
        "\n",
        "print('X>Y:',X>Y)\n",
        "print('X<Y:',X<Y)\n",
        "print('X>=Y:',X>=Y)\n",
        "print('X<=Y:',X<=Y)\n",
        "print('X!=Y:',X!=Y)\n",
        "print('X==Y:',X==Y)"
      ],
      "execution_count": null,
      "outputs": [
        {
          "output_type": "stream",
          "text": [
            "2\n",
            "7\n",
            "X: 2 Y 7\n",
            "X>Y: False\n",
            "X<Y: True\n",
            "X>=Y: False\n",
            "X<=Y: True\n",
            "X!=Y: True\n",
            "X==Y: False\n"
          ],
          "name": "stdout"
        }
      ]
    },
    {
      "cell_type": "code",
      "metadata": {
        "id": "qmaLxsnhmmup",
        "outputId": "3957ad0e-36e7-4656-c89b-e3a1cd632457"
      },
      "source": [
        "#2번 - case 3\n",
        "X=int(input())\n",
        "Y=int(input())\n",
        "\n",
        "print(\"X:\",X,\"Y\",Y)\n",
        "\n",
        "print('X>Y:',X>Y)\n",
        "print('X<Y:',X<Y)\n",
        "print('X>=Y:',X>=Y)\n",
        "print('X<=Y:',X<=Y)\n",
        "print('X!=Y:',X!=Y)\n",
        "print('X==Y:',X==Y)"
      ],
      "execution_count": null,
      "outputs": [
        {
          "output_type": "stream",
          "text": [
            "8\n",
            "8\n",
            "X: 8 Y 8\n",
            "X>Y: False\n",
            "X<Y: False\n",
            "X>=Y: True\n",
            "X<=Y: True\n",
            "X!=Y: False\n",
            "X==Y: True\n"
          ],
          "name": "stdout"
        }
      ]
    },
    {
      "cell_type": "code",
      "metadata": {
        "id": "bGy2jGMXmmus",
        "outputId": "ac04520a-ea49-4050-e0c0-185d4341de8f"
      },
      "source": [
        "#3번 \n",
        "\n",
        "X=True\n",
        "Y=True\n",
        "print(\"X:\",X,\"Y\",Y)\n",
        "print('X and Y:',X and Y)\n",
        "print(\"X or Y:\",X or Y)\n",
        "print('not X:',not X)\n",
        "print(\"\\n\")\n",
        "X=True\n",
        "Y=False\n",
        "print(\"X:\",X,\"Y\",Y)\n",
        "print('X and Y:',X and Y)\n",
        "print(\"X or Y:\",X or Y)\n",
        "print('not X:',not X)\n",
        "print(\"\\n\")\n"
      ],
      "execution_count": null,
      "outputs": [
        {
          "output_type": "stream",
          "text": [
            "X: True Y True\n",
            "X and Y: True\n",
            "X or Y: True\n",
            "not X: False\n",
            "\n",
            "\n",
            "X: True Y False\n",
            "X and Y: False\n",
            "X or Y: True\n",
            "not X: False\n",
            "\n",
            "\n"
          ],
          "name": "stdout"
        }
      ]
    },
    {
      "cell_type": "code",
      "metadata": {
        "id": "LDdhtNp8mmux",
        "outputId": "9918b38b-bd03-496b-93aa-bbd86bc25e54"
      },
      "source": [
        "#3번\n",
        "\n",
        "X=False\n",
        "Y=True\n",
        "print(\"X:\",X,\"Y\",Y)\n",
        "print('X and Y:',X and Y)\n",
        "print(\"X or Y:\",X or Y)\n",
        "print('not X:',not X)\n",
        "print(\"\\n\")\n",
        "X=False\n",
        "Y=False\n",
        "print(\"X:\",X,\"Y\",Y)\n",
        "print('X and Y:',X and Y)\n",
        "print(\"X or Y:\",X or Y)\n",
        "print('not X:',not X)\n",
        "print(\"\\n\")"
      ],
      "execution_count": null,
      "outputs": [
        {
          "output_type": "stream",
          "text": [
            "X: False Y True\n",
            "X and Y: False\n",
            "X or Y: True\n",
            "not X: True\n",
            "\n",
            "\n",
            "X: False Y False\n",
            "X and Y: False\n",
            "X or Y: False\n",
            "not X: True\n",
            "\n",
            "\n"
          ],
          "name": "stdout"
        }
      ]
    },
    {
      "cell_type": "code",
      "metadata": {
        "id": "47F3aTzlmmuy",
        "outputId": "9abf9d91-dca3-49d0-9f32-17c159cdcc70"
      },
      "source": [
        "#4번 - case 1\n",
        "\n",
        "X=12 #1100\n",
        "Y=3 #0011\n",
        "\n",
        "print(\"X:\",X,\"Y:\",Y)\n",
        "print('X&Y:',X&Y) #0000\n",
        "print('X|Y:',X|Y) #1111\n",
        "print('X^Y:',X^Y) #1111\n",
        "print('~X:',~X) #0011"
      ],
      "execution_count": null,
      "outputs": [
        {
          "output_type": "stream",
          "text": [
            "X: 12 Y: 3\n",
            "X&Y: 0\n",
            "X|Y: 15\n",
            "X^Y: 15\n",
            "~X: -13\n"
          ],
          "name": "stdout"
        }
      ]
    },
    {
      "cell_type": "code",
      "metadata": {
        "id": "Iv1FBAAYmmu0",
        "outputId": "508b6c88-d1ed-4036-af8f-a04b098fb53f"
      },
      "source": [
        "#4번 - case 2\n",
        "\n",
        "X=10 #1010\n",
        "Y=10 #1010\n",
        "\n",
        "print(\"X:\",X,\"Y:\",Y)\n",
        "print('X&Y:',X&Y) #1010\n",
        "print('X|Y:',X|Y) #1010\n",
        "print('X^Y:',X^Y) #0000\n",
        "print('~X:',~X) #0101"
      ],
      "execution_count": null,
      "outputs": [
        {
          "output_type": "stream",
          "text": [
            "X: 10 Y: 10\n",
            "X&Y: 10\n",
            "X|Y: 10\n",
            "X^Y: 0\n",
            "~X: -11\n"
          ],
          "name": "stdout"
        }
      ]
    },
    {
      "cell_type": "code",
      "metadata": {
        "id": "cK7s1p0bmmu1",
        "outputId": "ec97ef79-d77d-4cfa-84fc-2f0d0c6fa0f6"
      },
      "source": [
        "#4번\n",
        "\n",
        "X=10 #1010\n",
        "Y=3 #0011\n",
        "\n",
        "print(\"X:\",X,\"Y:\",Y)\n",
        "print('X<<Y:',X<<Y) #1010 -> 1010000 : 원래 숫자에 000 추가됨\n",
        "print('X>>Y:',X>>Y) #1010 -> 1 : 원래 숫자에 010 삭제됨"
      ],
      "execution_count": null,
      "outputs": [
        {
          "output_type": "stream",
          "text": [
            "X: 10 Y: 3\n",
            "X<<Y: 80\n",
            "X>>Y: 1\n"
          ],
          "name": "stdout"
        }
      ]
    }
  ]
}