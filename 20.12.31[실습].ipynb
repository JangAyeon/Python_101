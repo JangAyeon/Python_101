{
  "nbformat": 4,
  "nbformat_minor": 0,
  "metadata": {
    "kernelspec": {
      "display_name": "Python 3",
      "language": "python",
      "name": "python3"
    },
    "language_info": {
      "codemirror_mode": {
        "name": "ipython",
        "version": 3
      },
      "file_extension": ".py",
      "mimetype": "text/x-python",
      "name": "python",
      "nbconvert_exporter": "python",
      "pygments_lexer": "ipython3",
      "version": "3.8.5"
    },
    "colab": {
      "name": "20.12.31[실습].ipynb",
      "provenance": [],
      "include_colab_link": true
    }
  },
  "cells": [
    {
      "cell_type": "markdown",
      "metadata": {
        "id": "view-in-github",
        "colab_type": "text"
      },
      "source": [
        "<a href=\"https://colab.research.google.com/github/JangAyeon/Python_Lecture/blob/master/20.12.31%5B%EC%8B%A4%EC%8A%B5%5D.ipynb\" target=\"_parent\"><img src=\"https://colab.research.google.com/assets/colab-badge.svg\" alt=\"Open In Colab\"/></a>"
      ]
    },
    {
      "cell_type": "code",
      "metadata": {
        "id": "GnGPj73klbop",
        "outputId": "77e19556-e87f-45c1-fba3-7720aa5cf022"
      },
      "source": [
        "#1970078 장아연\n",
        "\n",
        "#실습 1번\n",
        "\n",
        "name=input()\n",
        "birth_mon=int(input()) #문자열->정수\n",
        "birth_day=int(input()) #문자열->정수\n",
        "print(\"나의 이름은 %s이고, 생일은 %d월 %d일 입니다.\"%(name,birth_mon,birth_day))"
      ],
      "execution_count": null,
      "outputs": [
        {
          "output_type": "stream",
          "text": [
            "장아연\n",
            "5\n",
            "9\n",
            "나의 이름은 장아연이고, 생일은 5월 9일 입니다.\n"
          ],
          "name": "stdout"
        }
      ]
    },
    {
      "cell_type": "code",
      "metadata": {
        "id": "fjkSoO5dlbot",
        "outputId": "46be9b9b-262e-4389-a193-7c5a5731c752"
      },
      "source": [
        "#실습 2번\n",
        "\n",
        "베릴륨=4\n",
        "마그네슘=12\n",
        "스트론튬=38\n",
        "바륨=56\n",
        "라듐=88\n",
        "\n",
        "alkaline_earth_metal=[베릴륨,마그네슘,스트론튬,바륨,라듐]\n",
        "print(\"라듐의 원자번호의 인덱스: \",alkaline_earth_metal.index(라듐))\n",
        "\n",
        "칼슘=20\n",
        "alkaline_earth_metal.append(칼슘)\n",
        "print(\"칼슘 추가 후 alkaline_earth_metal: \",alkaline_earth_metal)\n",
        "\n",
        "alkaline_earth_metal.sort()\n",
        "print(\"원자번호에 맞게 정렬: \",alkaline_earth_metal)"
      ],
      "execution_count": null,
      "outputs": [
        {
          "output_type": "stream",
          "text": [
            "라듐의 원자번호의 인덱스:  4\n",
            "칼슘 추가 후 alkaline_earth_metal:  [4, 12, 38, 56, 88, 20]\n",
            "원자번호에 맞게 정렬:  [4, 12, 20, 38, 56, 88]\n"
          ],
          "name": "stdout"
        }
      ]
    }
  ]
}