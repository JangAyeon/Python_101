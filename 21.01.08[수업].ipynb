{
  "nbformat": 4,
  "nbformat_minor": 0,
  "metadata": {
    "colab": {
      "name": "21.01.08[수업].ipynb",
      "provenance": [],
      "authorship_tag": "ABX9TyNHQ+hyjXF2mwRePvn1U/PQ",
      "include_colab_link": true
    },
    "kernelspec": {
      "name": "python3",
      "display_name": "Python 3"
    }
  },
  "cells": [
    {
      "cell_type": "markdown",
      "metadata": {
        "id": "view-in-github",
        "colab_type": "text"
      },
      "source": [
        "<a href=\"https://colab.research.google.com/github/JangAyeon/Python_Lecture/blob/master/21.01.08%5B%EC%88%98%EC%97%85%5D.ipynb\" target=\"_parent\"><img src=\"https://colab.research.google.com/assets/colab-badge.svg\" alt=\"Open In Colab\"/></a>"
      ]
    },
    {
      "cell_type": "markdown",
      "metadata": {
        "id": "mfYpuphh9USJ"
      },
      "source": [
        "**파이썬 내장 함수**<br>\r\n",
        "\r\n",
        "\r\n",
        "*   abc(x)\r\n",
        "*   pow(x,y)\r\n",
        "*   sum(x)\r\n",
        "*   bin(x)/oct(x)/hex(x)\r\n",
        "*   int(x)/float(x),str(x)/list(x)/tuple(x)\r\n",
        "*   type(x)\r\n",
        "*   max(x)/min(x\r\n",
        "\r\n",
        "\r\n",
        "\r\n",
        "\r\n"
      ]
    },
    {
      "cell_type": "code",
      "metadata": {
        "colab": {
          "base_uri": "https://localhost:8080/"
        },
        "id": "SSidhEaP9Fl_",
        "outputId": "689e8949-450c-4bde-f3e1-ab6b4fbf7c98"
      },
      "source": [
        "sum([1,2,3,4])"
      ],
      "execution_count": null,
      "outputs": [
        {
          "output_type": "execute_result",
          "data": {
            "text/plain": [
              "10"
            ]
          },
          "metadata": {
            "tags": []
          },
          "execution_count": 1
        }
      ]
    },
    {
      "cell_type": "code",
      "metadata": {
        "colab": {
          "base_uri": "https://localhost:8080/"
        },
        "id": "uOXjdBF3_S1Y",
        "outputId": "aeb65d1c-e883-4994-836b-d75fa3bddbc0"
      },
      "source": [
        "pow(2,3)  #2**3\r\n"
      ],
      "execution_count": null,
      "outputs": [
        {
          "output_type": "execute_result",
          "data": {
            "text/plain": [
              "8"
            ]
          },
          "metadata": {
            "tags": []
          },
          "execution_count": 3
        }
      ]
    },
    {
      "cell_type": "code",
      "metadata": {
        "colab": {
          "base_uri": "https://localhost:8080/"
        },
        "id": "NpdeKr51_Xwb",
        "outputId": "185a8219-9565-4290-8be7-b96abd12d2c4"
      },
      "source": [
        "type(2.34)"
      ],
      "execution_count": null,
      "outputs": [
        {
          "output_type": "execute_result",
          "data": {
            "text/plain": [
              "float"
            ]
          },
          "metadata": {
            "tags": []
          },
          "execution_count": 4
        }
      ]
    },
    {
      "cell_type": "code",
      "metadata": {
        "colab": {
          "base_uri": "https://localhost:8080/"
        },
        "id": "wUU-Iit7_eAZ",
        "outputId": "ec90093b-02e6-422c-eece-356a12a157fe"
      },
      "source": [
        "type([1,2,3,4])"
      ],
      "execution_count": null,
      "outputs": [
        {
          "output_type": "execute_result",
          "data": {
            "text/plain": [
              "list"
            ]
          },
          "metadata": {
            "tags": []
          },
          "execution_count": 5
        }
      ]
    },
    {
      "cell_type": "code",
      "metadata": {
        "colab": {
          "base_uri": "https://localhost:8080/"
        },
        "id": "B-zpC0j-_hrK",
        "outputId": "28dd63a1-b62a-42e3-f144-940a5087f3b5"
      },
      "source": [
        "max([1,2,3,4])"
      ],
      "execution_count": null,
      "outputs": [
        {
          "output_type": "execute_result",
          "data": {
            "text/plain": [
              "4"
            ]
          },
          "metadata": {
            "tags": []
          },
          "execution_count": 6
        }
      ]
    },
    {
      "cell_type": "code",
      "metadata": {
        "colab": {
          "base_uri": "https://localhost:8080/"
        },
        "id": "XXhQhh30_kZ_",
        "outputId": "15d71c5f-4fc4-4bd1-d802-af91d1f896a0"
      },
      "source": [
        "min([1,2,3,4])"
      ],
      "execution_count": null,
      "outputs": [
        {
          "output_type": "execute_result",
          "data": {
            "text/plain": [
              "1"
            ]
          },
          "metadata": {
            "tags": []
          },
          "execution_count": 7
        }
      ]
    },
    {
      "cell_type": "markdown",
      "metadata": {
        "id": "Q6ju_DfP_wu9"
      },
      "source": [
        "**함수 호출**<br>\r\n",
        ":함수를 실행하기 위한 명령문<br>\r\n",
        "형식 : <함수이름>(<인수>) <br>\r\n",
        "\r\n",
        "**인수**<br>\r\n",
        "함수 호출 시 괄호 사이에 들어가는 표현식<br>\r\n",
        "함수에 전달되는 값<br>\r\n",
        "\r\n"
      ]
    },
    {
      "cell_type": "code",
      "metadata": {
        "colab": {
          "base_uri": "https://localhost:8080/"
        },
        "id": "wbBbQKzW_lrO",
        "outputId": "b8710895-6bd2-44ae-a973-66cfd71ecab5"
      },
      "source": [
        "pow(2*3,5//2) #인수로 표현식 사용가능"
      ],
      "execution_count": null,
      "outputs": [
        {
          "output_type": "execute_result",
          "data": {
            "text/plain": [
              "36"
            ]
          },
          "metadata": {
            "tags": []
          },
          "execution_count": 8
        }
      ]
    },
    {
      "cell_type": "code",
      "metadata": {
        "colab": {
          "base_uri": "https://localhost:8080/"
        },
        "id": "Ajwx7XElBZXM",
        "outputId": "35900395-0162-4464-9b74-dee2734d7119"
      },
      "source": [
        "pow(abs(-2),int(\"4\")) #인수로 내장 함수 사용 가능"
      ],
      "execution_count": null,
      "outputs": [
        {
          "output_type": "execute_result",
          "data": {
            "text/plain": [
              "16"
            ]
          },
          "metadata": {
            "tags": []
          },
          "execution_count": 9
        }
      ]
    },
    {
      "cell_type": "markdown",
      "metadata": {
        "id": "tZFKeWiEBoqi"
      },
      "source": [
        "**사용자 정의 함수**<br>\r\n",
        "\r\n",
        "\r\n",
        "```\r\n",
        "def 함수명 (매개변수1, 매개변수2, ... , 매개변수 n):  #함수헤더\r\n",
        "  문장  #함수본문\r\n",
        "```\r\n",
        "\r\n",
        "\r\n",
        "*   함수명<br>\r\n",
        "변수 이름과 마찬 가지로 이름 정의<br>\r\n",
        "하나의 소스 파일 안에는 같은 이름의 함수명 사용 불가<br>->같은 이름의 함수 쓴 경우 가장 마지막에 쓴 함수로 덮여쓰기됨<br><br>\r\n",
        "*   매개변수 (인자, parameters)<br>\r\n",
        "함수 내에서 필요로 하는 값들을 받아서 저장해두는 임시 변수<br>\r\n",
        "매개변수는 없을 수도 있고, n개가 될 수도 있음<br><br>\r\n",
        "*   문장<br>\r\n",
        "최소 한 줄 이상의 문장이 포함되어야함<br>\r\n",
        "return 문 : 함수를 모두 실행한 후 되돌려 줄 값을 생성하는 구문<br>\r\n",
        "return <표현식>\r\n",
        "\r\n",
        "\r\n",
        "\r\n",
        "\r\n",
        "\r\n",
        "\r\n"
      ]
    },
    {
      "cell_type": "code",
      "metadata": {
        "colab": {
          "base_uri": "https://localhost:8080/"
        },
        "id": "VPXfibLSBdVI",
        "outputId": "0c642206-a478-4900-f88e-cd11d2c704ec"
      },
      "source": [
        "def plus(x,y):\r\n",
        "  return x+y\r\n",
        "\r\n",
        "def absolute(x):\r\n",
        "  if x>0:\r\n",
        "    return x\r\n",
        "  else:\r\n",
        "    return -x\r\n",
        "\r\n",
        "\r\n",
        "print(plus(3,5))\r\n",
        "print(absolute(-3))\r\n",
        "print(absolute(4))"
      ],
      "execution_count": null,
      "outputs": [
        {
          "output_type": "stream",
          "text": [
            "8\n",
            "3\n",
            "4\n"
          ],
          "name": "stdout"
        }
      ]
    },
    {
      "cell_type": "code",
      "metadata": {
        "id": "v8VOsXMzES4b"
      },
      "source": [
        ""
      ],
      "execution_count": null,
      "outputs": []
    }
  ]
}