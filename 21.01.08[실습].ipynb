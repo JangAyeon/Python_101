{
  "nbformat": 4,
  "nbformat_minor": 0,
  "metadata": {
    "colab": {
      "name": "21.01.08[실습].ipynb",
      "provenance": [],
      "authorship_tag": "ABX9TyPkKMzZEXyfUa8sJyVtLo9F",
      "include_colab_link": true
    },
    "kernelspec": {
      "name": "python3",
      "display_name": "Python 3"
    }
  },
  "cells": [
    {
      "cell_type": "markdown",
      "metadata": {
        "id": "view-in-github",
        "colab_type": "text"
      },
      "source": [
        "<a href=\"https://colab.research.google.com/github/JangAyeon/Python_Lecture/blob/master/21.01.08%5B%EC%8B%A4%EC%8A%B5%5D.ipynb\" target=\"_parent\"><img src=\"https://colab.research.google.com/assets/colab-badge.svg\" alt=\"Open In Colab\"/></a>"
      ]
    },
    {
      "cell_type": "markdown",
      "metadata": {
        "id": "0-B2CgtkEhEo"
      },
      "source": [
        "(1번) 파이썬 내장 함수 사용<br>\r\n",
        "**파이썬 내장 함수 abs를 이용하여 다음과 같은 함수를 정의하시오**<br>\r\n",
        "\r\n",
        "\r\n",
        "*   매개변수가 10진수 숫자 2개\r\n",
        "*   반환값: 두 숫자 간의 차이의 절대값을 반환\r\n",
        "\r\n",
        "\r\n"
      ]
    },
    {
      "cell_type": "code",
      "metadata": {
        "colab": {
          "base_uri": "https://localhost:8080/"
        },
        "id": "7wOV0quREdxY",
        "outputId": "4e58ab1a-8482-4b06-f85a-904873f85bbc"
      },
      "source": [
        "def func1_1(x,y):\r\n",
        "  return abs(x-y)\r\n",
        "\r\n",
        "func1_1(3,-4)"
      ],
      "execution_count": null,
      "outputs": [
        {
          "output_type": "execute_result",
          "data": {
            "text/plain": [
              "7"
            ]
          },
          "metadata": {
            "tags": []
          },
          "execution_count": 2
        }
      ]
    },
    {
      "cell_type": "code",
      "metadata": {
        "colab": {
          "base_uri": "https://localhost:8080/"
        },
        "id": "wIZu_ZqjFNpO",
        "outputId": "25ba6291-4983-4bb7-deca-c6dfce1b5487"
      },
      "source": [
        "def func1_2(x,y):\r\n",
        "  if x-y>0:\r\n",
        "    return x-y\r\n",
        "  else:\r\n",
        "    return y-x\r\n",
        "\r\n",
        "func1_2(3,-4)"
      ],
      "execution_count": null,
      "outputs": [
        {
          "output_type": "execute_result",
          "data": {
            "text/plain": [
              "7"
            ]
          },
          "metadata": {
            "tags": []
          },
          "execution_count": 4
        }
      ]
    },
    {
      "cell_type": "markdown",
      "metadata": {
        "id": "nw2O3TN_Ffqf"
      },
      "source": [
        "(2번)평균 계산<br>\r\n",
        "**0부터 100사이의 점수를 두 개 입력 받은 후, 평균을 반환하는 함수를 정의**<br>\r\n",
        "**단, 점수값이 0에서 100사이의 값이 아닌 경우에는 경고 메시지를 출력**<br>"
      ]
    },
    {
      "cell_type": "code",
      "metadata": {
        "id": "qefGrBazFzDk"
      },
      "source": [
        "def ave():\r\n",
        "  score1=int(input(\"점수를 입력하시오: \"))\r\n",
        "  if score1<0 or score1>100:\r\n",
        "    print(\"잘못된 입력입니다.\")\r\n",
        "    return\r\n",
        "\r\n",
        "  score2=int(input(\"점수를 입력하시오: \"))\r\n",
        "  if score2<0 or score2>100:\r\n",
        "    print(\"잘못된 입력입니다.\")\r\n",
        "    return\r\n",
        "    \r\n",
        "  return (score1+score2)/2"
      ],
      "execution_count": null,
      "outputs": []
    },
    {
      "cell_type": "markdown",
      "metadata": {
        "id": "wsQ76hQCGvPc"
      },
      "source": [
        "(3번)진수 변환 함수<br>\r\n",
        "**10진수 정수를 16진수로 변환하여 출력하는 사용자 정의 함수를 생성**<br>\r\n",
        "**사용자로부터 10진수 정수를 입력 받은 후, 사용자정의함수와 hex함수를 각각 호출하여 그 결과 비교하기**<br>"
      ]
    },
    {
      "cell_type": "code",
      "metadata": {
        "colab": {
          "base_uri": "https://localhost:8080/"
        },
        "id": "SBy4cvnyHAcv",
        "outputId": "8e739f99-ce1f-4ceb-ad86-b79946c4fb65"
      },
      "source": [
        "hex_=\"0123456789abcdef\" #16진수 표현을 위한 문자\r\n",
        "\r\n",
        "def ConvertToHex(x): #10진수 -> 16진수 변환 함수 정의\r\n",
        "  q=x//16\r\n",
        "  r=x%16\r\n",
        "\r\n",
        "  if (q==0):\r\n",
        "    return hex_[r] #몫이 0이면 해당하는 16진수 문자 출력\r\n",
        "  else:\r\n",
        "    return ConvertToHex(q)+hex_[r] #몫이 0이 아니면 16으로 나누는 과정 반복\r\n",
        "\r\n",
        "num=int(input(\"정수를 입력하시오: \"))\r\n",
        "print(ConvertToHex(num))\r\n"
      ],
      "execution_count": null,
      "outputs": [
        {
          "output_type": "stream",
          "text": [
            "정수를 입력하시오: 17\n",
            "11\n"
          ],
          "name": "stdout"
        }
      ]
    },
    {
      "cell_type": "markdown",
      "metadata": {
        "id": "iW4d3z1rJuCa"
      },
      "source": [
        "**10진수 정수를 8진수로 변환하여 출력하는 사용자 정의함수를 생성**"
      ]
    },
    {
      "cell_type": "code",
      "metadata": {
        "colab": {
          "base_uri": "https://localhost:8080/"
        },
        "id": "wmj4wy7ZIWW8",
        "outputId": "ed5928a2-6974-4424-e167-b8fe6f1120d8"
      },
      "source": [
        "oct_=\"01234567\"\r\n",
        "\r\n",
        "def ConvertToOct(x):\r\n",
        "  q=x//8\r\n",
        "  r=x%8\r\n",
        "\r\n",
        "  if q==0:\r\n",
        "    return oct_[r]\r\n",
        "  else:\r\n",
        "    return ConvertToOct(q)+oct_[r]\r\n",
        "\r\n",
        "num=int(input(\"숫자를 입력하시오: \"))\r\n",
        "print(ConvertToOct(num))"
      ],
      "execution_count": null,
      "outputs": [
        {
          "output_type": "stream",
          "text": [
            "숫자를 입력하시오: 17\n",
            "21\n"
          ],
          "name": "stdout"
        }
      ]
    },
    {
      "cell_type": "code",
      "metadata": {
        "colab": {
          "base_uri": "https://localhost:8080/",
          "height": 34
        },
        "id": "bti8si7nI2DE",
        "outputId": "80544ac9-478c-4c8c-90f8-f96b3bc13975"
      },
      "source": [
        "oct(17)"
      ],
      "execution_count": null,
      "outputs": [
        {
          "output_type": "execute_result",
          "data": {
            "application/vnd.google.colaboratory.intrinsic+json": {
              "type": "string"
            },
            "text/plain": [
              "'0o21'"
            ]
          },
          "metadata": {
            "tags": []
          },
          "execution_count": 20
        }
      ]
    },
    {
      "cell_type": "code",
      "metadata": {
        "id": "8EXR0kt6J8xC"
      },
      "source": [
        ""
      ],
      "execution_count": null,
      "outputs": []
    }
  ]
}