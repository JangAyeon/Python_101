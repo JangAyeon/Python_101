{
  "nbformat": 4,
  "nbformat_minor": 0,
  "metadata": {
    "colab": {
      "name": "과제1.ipynb",
      "provenance": [],
      "collapsed_sections": [],
      "authorship_tag": "ABX9TyOirquSXt7yv51KOqK+dHJC",
      "include_colab_link": true
    },
    "kernelspec": {
      "name": "python3",
      "display_name": "Python 3"
    }
  },
  "cells": [
    {
      "cell_type": "markdown",
      "metadata": {
        "id": "view-in-github",
        "colab_type": "text"
      },
      "source": [
        "<a href=\"https://colab.research.google.com/github/JangAyeon/Python_Lecture/blob/master/%EA%B3%BC%EC%A0%9C1.ipynb\" target=\"_parent\"><img src=\"https://colab.research.google.com/assets/colab-badge.svg\" alt=\"Open In Colab\"/></a>"
      ]
    },
    {
      "cell_type": "code",
      "metadata": {
        "colab": {
          "base_uri": "https://localhost:8080/"
        },
        "id": "Ie-iQ2d3rQ_m",
        "outputId": "40b9972c-07cb-4440-a1ff-0f3c6fd58426"
      },
      "source": [
        "j=1 # * 출력 개수를 담당 \r\n",
        "for i in range(4,-1,-1): # (공백) 출력 개수를 담당 -> 4 3 2 1 값을 순차적으로 가짐\r\n",
        "    print(\" \"*i,\"*\"*j,\" \"*i)\r\n",
        "    j+=2 #j -> 1 3 5 7 9 값을 가짐\r\n"
      ],
      "execution_count": null,
      "outputs": [
        {
          "output_type": "stream",
          "text": [
            "     *     \n",
            "    ***    \n",
            "   *****   \n",
            "  *******  \n",
            " ********* \n"
          ],
          "name": "stdout"
        }
      ]
    },
    {
      "cell_type": "code",
      "metadata": {
        "colab": {
          "base_uri": "https://localhost:8080/"
        },
        "id": "AndO4_0srQMf",
        "outputId": "ee8d272b-e27c-4d4a-8d67-3f6c161d564a"
      },
      "source": [
        "total=0 #총점을 받을 변수\r\n",
        "avg=0 #평균을 받을 변수\r\n",
        "cnt=0 #과목 갯수를 받을 변수\r\n",
        "\r\n",
        "while (True): #무한 루프 \r\n",
        "    input1=input(\"점수를 입력하시오: \")\r\n",
        "    if input1!=\"Quit\": #점수를 입력 받은 경우\r\n",
        "      score=int(input1) #자료형을 문자열에서 정수로 바꿈\r\n",
        "      total+=score #입력된 점수를 총점에 더해줌\r\n",
        "      cnt+=1 #과목 갯수를 한 개 증가 시킴\r\n",
        "    else: #Quit이 입력된 경우 break로 무한 루프 탈출\r\n",
        "      break\r\n",
        "\r\n",
        "avg=total/cnt #평균 계산\r\n",
        "if avg>=90: #평균이 90점 이상인 경우 A\r\n",
        "    grade='A'\r\n",
        "elif avg>=80: #평균이 80점 이상인 경우 B\r\n",
        "    grade='B'\r\n",
        "else:  #평균이 80점 미만인 경우 C\r\n",
        "    grade='C'\r\n",
        "print(\"입력된 점수의 총합은 %d점이고, 평균은 %f점입니다. 학점은 \\'%s\\'입니다\"%(total,avg,grade))\r\n"
      ],
      "execution_count": null,
      "outputs": [
        {
          "output_type": "stream",
          "text": [
            "점수를 입력하시오: 92\n",
            "점수를 입력하시오: 88\n",
            "점수를 입력하시오: Quit\n",
            "입력된 점수의 총합은 180점이고, 평균은 90점입니다. 학점은 'A'입니다\n"
          ],
          "name": "stdout"
        }
      ]
    },
    {
      "cell_type": "code",
      "metadata": {
        "id": "hfpiG81MrW7D"
      },
      "source": [
        ""
      ],
      "execution_count": null,
      "outputs": []
    }
  ]
}