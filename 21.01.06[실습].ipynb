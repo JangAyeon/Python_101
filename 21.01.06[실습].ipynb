{
  "nbformat": 4,
  "nbformat_minor": 0,
  "metadata": {
    "colab": {
      "name": "21.01.06[실습].ipynb",
      "provenance": [],
      "collapsed_sections": [],
      "authorship_tag": "ABX9TyNeTju3CT6BZu+pOfdTMRJv",
      "include_colab_link": true
    },
    "kernelspec": {
      "name": "python3",
      "display_name": "Python 3"
    }
  },
  "cells": [
    {
      "cell_type": "markdown",
      "metadata": {
        "id": "view-in-github",
        "colab_type": "text"
      },
      "source": [
        "<a href=\"https://colab.research.google.com/github/JangAyeon/Python_Lecture/blob/master/21.01.06%5B%EC%8B%A4%EC%8A%B5%5D.ipynb\" target=\"_parent\"><img src=\"https://colab.research.google.com/assets/colab-badge.svg\" alt=\"Open In Colab\"/></a>"
      ]
    },
    {
      "cell_type": "markdown",
      "metadata": {
        "id": "T0pHtylheeAc"
      },
      "source": [
        "**1번**"
      ]
    },
    {
      "cell_type": "code",
      "metadata": {
        "colab": {
          "base_uri": "https://localhost:8080/"
        },
        "id": "T8X8rdvxeSbS",
        "outputId": "c9756b6d-59a2-4240-b6dc-6622a695e67e"
      },
      "source": [
        "list1=[5,4,7,3,2,6,2]\r\n",
        "new_lst=[]\r\n",
        "\r\n",
        "for i in range(len(list1)):\r\n",
        "  new_lst.append(list1[i]+1)\r\n",
        "\r\n",
        "print(new_lst)\r\n"
      ],
      "execution_count": null,
      "outputs": [
        {
          "output_type": "stream",
          "text": [
            "[6, 5, 8, 4, 3, 7, 3]\n"
          ],
          "name": "stdout"
        }
      ]
    },
    {
      "cell_type": "code",
      "metadata": {
        "colab": {
          "base_uri": "https://localhost:8080/"
        },
        "id": "goy_Y-3te10E",
        "outputId": "040ddbe2-bab2-4846-e9a2-71448d566fab"
      },
      "source": [
        "list1=[5,4,7,3,2,6,2]\r\n",
        "new_lst=list1.copy()\r\n",
        "print(new_lst)\r\n",
        "\r\n",
        "for i in range(len(new_lst)):\r\n",
        "  new_lst[i]+=1\r\n",
        "\r\n",
        "print(new_lst)"
      ],
      "execution_count": null,
      "outputs": [
        {
          "output_type": "stream",
          "text": [
            "[5, 4, 7, 3, 2, 6, 2]\n",
            "[6, 5, 8, 4, 3, 7, 3]\n"
          ],
          "name": "stdout"
        }
      ]
    },
    {
      "cell_type": "code",
      "metadata": {
        "colab": {
          "base_uri": "https://localhost:8080/"
        },
        "id": "1jsRAzvtfbwO",
        "outputId": "3cb37b06-adda-4c00-daf5-576624b35dbe"
      },
      "source": [
        "ele=['li','na','k','f','cl']\r\n",
        "\r\n",
        "i=len(ele)-1 #맨 뒤에 인덱스부터 검색 시작\r\n",
        "\r\n",
        "value=input(\"원소를 입력하시오: \")\r\n",
        "while i>=0 and ele[i]!=value: \r\n",
        "  #리스트의 첫번째 인덱스까지 도달하거나 검색값과 일치하는 요소를 찾은 경우 중단\r\n",
        "  i-=1\r\n",
        "\r\n",
        "if i<0:\r\n",
        "  print(\"원소가 존재 하지 않음 : 탐색 실패\")\r\n",
        "else:\r\n",
        "  print(\"원소 %s는 %d번째에 있습니다\"%(value,i))\r\n",
        "\r\n"
      ],
      "execution_count": null,
      "outputs": [
        {
          "output_type": "stream",
          "text": [
            "원소를 입력하시오: s\n",
            "원소가 존재 하지 않음 : 탐색 실패\n"
          ],
          "name": "stdout"
        }
      ]
    },
    {
      "cell_type": "code",
      "metadata": {
        "colab": {
          "base_uri": "https://localhost:8080/"
        },
        "id": "3rQK-Qi8gXm9",
        "outputId": "fda9540e-e691-49e2-b873-8bebce023943"
      },
      "source": [
        "ele=['li','na','k','f','cl']\r\n",
        "\r\n",
        "value=input(\"원소를 입력하시오: \")\r\n",
        "for i in range(len(ele)-1,-1,-1): #4 3 2 1 0 의 숫자 리스트\r\n",
        "  if ele[i]==value:\r\n",
        "    print(\"원소 %s는 %d번째에 있습니다.\"%(value,i))\r\n",
        "    break\r\n",
        "\r\n",
        "if i==0 and ele[i]!=value:\r\n",
        "  print(\"탐색 실패: 원소가 존재하지 않음\")"
      ],
      "execution_count": null,
      "outputs": [
        {
          "output_type": "stream",
          "text": [
            "원소를 입력하시오: ㅣㅑ\n",
            "탐색 실패: 원소가 존재하지 않음\n"
          ],
          "name": "stdout"
        }
      ]
    },
    {
      "cell_type": "code",
      "metadata": {
        "id": "0rLz4Us5hT7o"
      },
      "source": [
        "\r\n",
        "\r\n"
      ],
      "execution_count": null,
      "outputs": []
    }
  ]
}