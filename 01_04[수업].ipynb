{
  "nbformat": 4,
  "nbformat_minor": 0,
  "metadata": {
    "colab": {
      "name": "01.04[수업].ipynb",
      "provenance": [],
      "authorship_tag": "ABX9TyPGn8Th9QhNaUlc8MJaIkTs",
      "include_colab_link": true
    },
    "kernelspec": {
      "name": "python3",
      "display_name": "Python 3"
    }
  },
  "cells": [
    {
      "cell_type": "markdown",
      "metadata": {
        "id": "view-in-github",
        "colab_type": "text"
      },
      "source": [
        "<a href=\"https://colab.research.google.com/github/JangAyeon/Python_Lecture/blob/master/01_04%5B%EC%88%98%EC%97%85%5D.ipynb\" target=\"_parent\"><img src=\"https://colab.research.google.com/assets/colab-badge.svg\" alt=\"Open In Colab\"/></a>"
      ]
    },
    {
      "cell_type": "markdown",
      "metadata": {
        "id": "tQM9D5H4t57S"
      },
      "source": [
        "**조건문 if**"
      ]
    },
    {
      "cell_type": "code",
      "metadata": {
        "colab": {
          "base_uri": "https://localhost:8080/"
        },
        "id": "eXwwuFYFkQuo",
        "outputId": "ed697b13-ad9c-4acd-8c58-36f1d0272bb9"
      },
      "source": [
        "x=10\r\n",
        "if x==10:\r\n",
        "  print(\"x 값은 10이다.\")"
      ],
      "execution_count": 1,
      "outputs": [
        {
          "output_type": "stream",
          "text": [
            "x 값은 10이다.\n"
          ],
          "name": "stdout"
        }
      ]
    },
    {
      "cell_type": "markdown",
      "metadata": {
        "id": "I6C0VhNAt89F"
      },
      "source": [
        "**논리연산자 / 비교 연산자**"
      ]
    },
    {
      "cell_type": "code",
      "metadata": {
        "id": "0K0NJ0J7keBJ"
      },
      "source": [
        "x=5 \r\n",
        "if x==10: #조건문이 참이 아니기 때문에 밑에 문장 실행되지 않음\r\n",
        "  print(\"x값은 10이다.\")"
      ],
      "execution_count": 2,
      "outputs": []
    },
    {
      "cell_type": "code",
      "metadata": {
        "colab": {
          "base_uri": "https://localhost:8080/"
        },
        "id": "ybPe7kK2kjr5",
        "outputId": "67e9e484-5415-4a62-9970-cffb0dff42e7"
      },
      "source": [
        "x=2\r\n",
        "y=6\r\n",
        "\r\n",
        "if(x>y): #false\r\n",
        "  print(\"x가 y보다 크다\") \r\n",
        "\r\n",
        "if(x<y): #true\r\n",
        "  print(\"y가 x보다 크다\")\r\n",
        "\r\n",
        "if(x>=y): #false\r\n",
        "  print(\"x가 y보다 크거나 같다\")\r\n",
        "\r\n",
        "if(x<=y): #true\r\n",
        "  print(\"x가 y보다 작거나 같다\")\r\n",
        "\r\n",
        "if(x==y): #false\r\n",
        "  print(\"x와 y는 같다\")\r\n",
        "\r\n",
        "if(x!=y): #true\r\n",
        "  print(\"x와 y는 같지 않다\")"
      ],
      "execution_count": 3,
      "outputs": [
        {
          "output_type": "stream",
          "text": [
            "y가 x보다 크다\n",
            "x가 y보다 작거나 같다\n",
            "x와 y는 같지 않다\n"
          ],
          "name": "stdout"
        }
      ]
    },
    {
      "cell_type": "code",
      "metadata": {
        "colab": {
          "base_uri": "https://localhost:8080/"
        },
        "id": "sbEZYt54qEXe",
        "outputId": "b9d6807a-1e34-47dc-b7f1-627eb2c0ddcd"
      },
      "source": [
        "x=2\r\n",
        "y=6\r\n",
        "\r\n",
        "#작지 않거나 = 크거나 같음\r\n",
        "#크지 않다 = 작거나 같음\r\n",
        "\r\n",
        "if(x<5 and y>5):\r\n",
        "  print(\"x는 5보다 작고, y는 5보다 크다\")\r\n",
        "else:\r\n",
        "  print(\"x는 5보다 작지 않거나, y는 5보다 크지 않다\")  \r\n",
        "\r\n",
        "if(x<5 or y>5):\r\n",
        "  print(\"x가 5보다 작거나, y가 5보다 크다\")\r\n",
        "else:\r\n",
        "  print(\"x가 5보다 크거나 같고 y는 5보다 작거나 같다\")\r\n",
        "\r\n",
        "if(not x<5):\r\n",
        "  print(\"x가 5보다 작지 않다\")\r\n",
        "else:\r\n",
        "    print(\"x가 5보다 작다\")"
      ],
      "execution_count": 4,
      "outputs": [
        {
          "output_type": "stream",
          "text": [
            "x는 5보다 작고, y는 5보다 크다\n",
            "x가 5보다 작거나, y가 5보다 크다\n",
            "x가 5보다 작다\n"
          ],
          "name": "stdout"
        }
      ]
    },
    {
      "cell_type": "markdown",
      "metadata": {
        "id": "RloQKsRgtKGZ"
      },
      "source": [
        "**in 연산자 사용**"
      ]
    },
    {
      "cell_type": "code",
      "metadata": {
        "colab": {
          "base_uri": "https://localhost:8080/"
        },
        "id": "aof3zGNWslLd",
        "outputId": "0cf767b9-fa27-4d4e-d381-2f02065f4b3e"
      },
      "source": [
        "3 in [1,2,3,4,5] #리스트"
      ],
      "execution_count": 5,
      "outputs": [
        {
          "output_type": "execute_result",
          "data": {
            "text/plain": [
              "True"
            ]
          },
          "metadata": {
            "tags": []
          },
          "execution_count": 5
        }
      ]
    },
    {
      "cell_type": "code",
      "metadata": {
        "colab": {
          "base_uri": "https://localhost:8080/"
        },
        "id": "AP9YgHgntGAG",
        "outputId": "65e17551-4745-4681-e6c1-62990b9cacf9"
      },
      "source": [
        "3 not in [1,2,3,4,5]"
      ],
      "execution_count": 6,
      "outputs": [
        {
          "output_type": "execute_result",
          "data": {
            "text/plain": [
              "False"
            ]
          },
          "metadata": {
            "tags": []
          },
          "execution_count": 6
        }
      ]
    },
    {
      "cell_type": "code",
      "metadata": {
        "colab": {
          "base_uri": "https://localhost:8080/"
        },
        "id": "Ohmsfly-tRpP",
        "outputId": "6109a492-f72c-437c-f1df-0338a4a61e71"
      },
      "source": [
        "'a' in ('a','b','c') #튜플"
      ],
      "execution_count": 7,
      "outputs": [
        {
          "output_type": "execute_result",
          "data": {
            "text/plain": [
              "True"
            ]
          },
          "metadata": {
            "tags": []
          },
          "execution_count": 7
        }
      ]
    },
    {
      "cell_type": "code",
      "metadata": {
        "colab": {
          "base_uri": "https://localhost:8080/"
        },
        "id": "L4OpDUqHtV1k",
        "outputId": "0c986873-d5da-4748-9d72-f43b9f319e5d"
      },
      "source": [
        "'a' not in ('a','b','c')"
      ],
      "execution_count": 8,
      "outputs": [
        {
          "output_type": "execute_result",
          "data": {
            "text/plain": [
              "False"
            ]
          },
          "metadata": {
            "tags": []
          },
          "execution_count": 8
        }
      ]
    },
    {
      "cell_type": "code",
      "metadata": {
        "colab": {
          "base_uri": "https://localhost:8080/"
        },
        "id": "8USHQ1xotY1T",
        "outputId": "8096c135-5914-4887-d05c-4ff00f357aca"
      },
      "source": [
        "'a' in 'Python' #문자열"
      ],
      "execution_count": 10,
      "outputs": [
        {
          "output_type": "execute_result",
          "data": {
            "text/plain": [
              "False"
            ]
          },
          "metadata": {
            "tags": []
          },
          "execution_count": 10
        }
      ]
    },
    {
      "cell_type": "code",
      "metadata": {
        "colab": {
          "base_uri": "https://localhost:8080/"
        },
        "id": "Ta62760OtbU_",
        "outputId": "fec3d059-b8a2-4094-f143-ce909b59bdb0"
      },
      "source": [
        "'a' not in 'Python'"
      ],
      "execution_count": 11,
      "outputs": [
        {
          "output_type": "execute_result",
          "data": {
            "text/plain": [
              "True"
            ]
          },
          "metadata": {
            "tags": []
          },
          "execution_count": 11
        }
      ]
    },
    {
      "cell_type": "markdown",
      "metadata": {
        "id": "SusRX_Tavy1i"
      },
      "source": [
        "**if else**"
      ]
    },
    {
      "cell_type": "code",
      "metadata": {
        "colab": {
          "base_uri": "https://localhost:8080/"
        },
        "id": "HnECPpAjtoGt",
        "outputId": "6cf964c5-63a7-4c83-cc55-73539b5c7fc0"
      },
      "source": [
        "x=5\r\n",
        "\r\n",
        "if x==10:\r\n",
        "  print(\"x값은 10입니다.\")\r\n",
        "else:\r\n",
        "  print(\"x값은 10이 아닙니다.\")"
      ],
      "execution_count": 12,
      "outputs": [
        {
          "output_type": "stream",
          "text": [
            "x값은 10이 아닙니다.\n"
          ],
          "name": "stdout"
        }
      ]
    },
    {
      "cell_type": "code",
      "metadata": {
        "colab": {
          "base_uri": "https://localhost:8080/"
        },
        "id": "JjV_FuZiwAMU",
        "outputId": "0948df07-d909-4007-8c5b-16df4418787b"
      },
      "source": [
        "pH=float(input('pH 농도를 입력하시오: '))\r\n",
        "\r\n",
        "if pH>7.0:\r\n",
        "  print(\"산성\")\r\n",
        "\r\n",
        "if pH<7.0:\r\n",
        "  print(\"염기성\")\r\n",
        "\r\n",
        "if pH==7.0:\r\n",
        "  print(\"중성\") \r\n",
        "\r\n",
        "#pH가 7.5 경우 두번째 세번째 조건문의 참/거짓 판별의 필요가 없는데 조건문의 비교연산을 실행함 "
      ],
      "execution_count": 14,
      "outputs": [
        {
          "output_type": "stream",
          "text": [
            "pH 농도를 입력하시오: 7.5\n",
            "산성\n"
          ],
          "name": "stdout"
        }
      ]
    },
    {
      "cell_type": "code",
      "metadata": {
        "colab": {
          "base_uri": "https://localhost:8080/"
        },
        "id": "xLei64sIwdbb",
        "outputId": "f0239e0c-d760-49ea-e799-6b95416f59bd"
      },
      "source": [
        "score=int(input(\"점수를 입력하세요: \"))\r\n",
        "\r\n",
        "if score>=90:\r\n",
        "  print(\"A\")\r\n",
        "if score>=80 and score<90: #score>=80 이라고만 쓰면 90 입력했을 때 a와 b 모두 출력됨 -> 90미만이라고 꼭 써줘야함\r\n",
        "  print('b')\r\n",
        "if score<80:\r\n",
        "  print(\"c\")"
      ],
      "execution_count": 16,
      "outputs": [
        {
          "output_type": "stream",
          "text": [
            "점수를 입력하세요: 90\n",
            "A\n"
          ],
          "name": "stdout"
        }
      ]
    },
    {
      "cell_type": "markdown",
      "metadata": {
        "id": "BZDO_oKFxp4n"
      },
      "source": [
        "**if elif else**"
      ]
    },
    {
      "cell_type": "code",
      "metadata": {
        "colab": {
          "base_uri": "https://localhost:8080/"
        },
        "id": "bXITaYI7xPug",
        "outputId": "5996b6a7-dc80-4c9a-83de-9b3ef61ec1e0"
      },
      "source": [
        "ph=float(input())\r\n",
        "\r\n",
        "if ph<7.0:\r\n",
        "  print(\"산성\")\r\n",
        "elif ph>7.0:\r\n",
        "  print(\"염기성\")\r\n",
        "else:\r\n",
        "  print(\"중성\")"
      ],
      "execution_count": 19,
      "outputs": [
        {
          "output_type": "stream",
          "text": [
            "7.0\n",
            "중성\n"
          ],
          "name": "stdout"
        }
      ]
    },
    {
      "cell_type": "code",
      "metadata": {
        "id": "34Nb-p2_zJL8"
      },
      "source": [
        ""
      ],
      "execution_count": null,
      "outputs": []
    }
  ]
}