{
  "nbformat": 4,
  "nbformat_minor": 0,
  "metadata": {
    "colab": {
      "name": "21.01.12[수업].ipynb",
      "provenance": [],
      "authorship_tag": "ABX9TyN+dTCCz2pbr4vAuRiOUmMQ",
      "include_colab_link": true
    },
    "kernelspec": {
      "name": "python3",
      "display_name": "Python 3"
    }
  },
  "cells": [
    {
      "cell_type": "markdown",
      "metadata": {
        "id": "view-in-github",
        "colab_type": "text"
      },
      "source": [
        "<a href=\"https://colab.research.google.com/github/JangAyeon/Python_Lecture/blob/master/21_01_12%5B%EC%88%98%EC%97%85%5D.ipynb\" target=\"_parent\"><img src=\"https://colab.research.google.com/assets/colab-badge.svg\" alt=\"Open In Colab\"/></a>"
      ]
    },
    {
      "cell_type": "markdown",
      "metadata": {
        "id": "10jIWKuSVI0Z"
      },
      "source": [
        "#세트<br>\r\n",
        "\r\n",
        "\r\n",
        "*   집합. 중복되지 않은 요소들의 모임(중복된 요소 입력시 자동으로 중복된 요소 제거)\r\n",
        "\r\n",
        "\r\n",
        "*   값들이 집합 내에서 나열되는 순서 != 값을 입력한 순서  => 순서 없이 저장되기 때문\r\n",
        "*   index 없어 인덱싱과 슬라이싱 없음\r\n",
        "\r\n",
        "\r\n",
        "*   변수={값,값,값, ... }\r\n",
        "*   set=((값,값, ... )) 튜플 / \r\n",
        " set=([값,값, ... ]) 리스트 /  set=(\"값,값, ... \") 문자열\r\n",
        "\r\n",
        "\r\n"
      ]
    },
    {
      "cell_type": "code",
      "metadata": {
        "colab": {
          "base_uri": "https://localhost:8080/"
        },
        "id": "KEgrczHTVIJl",
        "outputId": "5ebd4ecc-353d-4653-c035-e49308272a52"
      },
      "source": [
        "var_set={1,1,2,3,2,5,1}\r\n",
        "var_set"
      ],
      "execution_count": null,
      "outputs": [
        {
          "output_type": "execute_result",
          "data": {
            "text/plain": [
              "{1, 2, 3, 5}"
            ]
          },
          "metadata": {
            "tags": []
          },
          "execution_count": 1
        }
      ]
    },
    {
      "cell_type": "code",
      "metadata": {
        "colab": {
          "base_uri": "https://localhost:8080/"
        },
        "id": "qTpDMHdrVm1F",
        "outputId": "1e13f317-3c18-4373-c563-2e1042bbe344"
      },
      "source": [
        "var_set_en={'a','i','o','u','e'}\r\n",
        "var_set_en"
      ],
      "execution_count": null,
      "outputs": [
        {
          "output_type": "execute_result",
          "data": {
            "text/plain": [
              "{'a', 'e', 'i', 'o', 'u'}"
            ]
          },
          "metadata": {
            "tags": []
          },
          "execution_count": 2
        }
      ]
    },
    {
      "cell_type": "code",
      "metadata": {
        "colab": {
          "base_uri": "https://localhost:8080/",
          "height": 188
        },
        "id": "b-v0DoXrVucY",
        "outputId": "4f3094b4-2775-4198-9882-1bc0c3327e0b"
      },
      "source": [
        "var_set={1,2,4,5}\r\n",
        "var_set[0] #index이용하여 접근 불가능"
      ],
      "execution_count": null,
      "outputs": [
        {
          "output_type": "error",
          "ename": "TypeError",
          "evalue": "ignored",
          "traceback": [
            "\u001b[0;31m---------------------------------------------------------------------------\u001b[0m",
            "\u001b[0;31mTypeError\u001b[0m                                 Traceback (most recent call last)",
            "\u001b[0;32m<ipython-input-3-ac06b59fba28>\u001b[0m in \u001b[0;36m<module>\u001b[0;34m()\u001b[0m\n\u001b[1;32m      1\u001b[0m \u001b[0mvar_set\u001b[0m\u001b[0;34m=\u001b[0m\u001b[0;34m{\u001b[0m\u001b[0;36m1\u001b[0m\u001b[0;34m,\u001b[0m\u001b[0;36m2\u001b[0m\u001b[0;34m,\u001b[0m\u001b[0;36m4\u001b[0m\u001b[0;34m,\u001b[0m\u001b[0;36m5\u001b[0m\u001b[0;34m}\u001b[0m\u001b[0;34m\u001b[0m\u001b[0;34m\u001b[0m\u001b[0m\n\u001b[0;32m----> 2\u001b[0;31m \u001b[0mvar_set\u001b[0m\u001b[0;34m[\u001b[0m\u001b[0;36m0\u001b[0m\u001b[0;34m]\u001b[0m\u001b[0;34m\u001b[0m\u001b[0;34m\u001b[0m\u001b[0m\n\u001b[0m",
            "\u001b[0;31mTypeError\u001b[0m: 'set' object does not support indexing"
          ]
        }
      ]
    },
    {
      "cell_type": "markdown",
      "metadata": {
        "id": "bDuR2yqTWXq6"
      },
      "source": [
        "**세트 유형**\r\n",
        "\r\n",
        "\r\n",
        "\r\n",
        "1.   세트 : 세트의 요소 변경 가능 -> 세트의 요소 추가/삭제 가능\r\n",
        "2.   프로즌세트(frozonset)<br>: 세트 내 요소들의 변경 불가 -> 한 번 세트를 생성한 이후에 추가/삭제 불가능<br>: 해시 가능 \r\n",
        "\r\n"
      ]
    },
    {
      "cell_type": "code",
      "metadata": {
        "colab": {
          "base_uri": "https://localhost:8080/"
        },
        "id": "bz-oyslLWOHP",
        "outputId": "6b9c7e46-9c0f-4747-eb54-d9a00001d7e9"
      },
      "source": [
        "#빈 세트 생성 -> 틀린 ver.\r\n",
        "\r\n",
        "empty_set={}\r\n",
        "type(empty_set)"
      ],
      "execution_count": null,
      "outputs": [
        {
          "output_type": "execute_result",
          "data": {
            "text/plain": [
              "dict"
            ]
          },
          "metadata": {
            "tags": []
          },
          "execution_count": 4
        }
      ]
    },
    {
      "cell_type": "code",
      "metadata": {
        "colab": {
          "base_uri": "https://localhost:8080/"
        },
        "id": "IGniZ0ysXBtZ",
        "outputId": "751e41b2-7719-4347-8954-ebc3a086bfd1"
      },
      "source": [
        "#빈 세트 생성 -> 세트 함수 이용\r\n",
        "empty_set=set()\r\n",
        "type(empty_set)"
      ],
      "execution_count": null,
      "outputs": [
        {
          "output_type": "execute_result",
          "data": {
            "text/plain": [
              "set"
            ]
          },
          "metadata": {
            "tags": []
          },
          "execution_count": 6
        }
      ]
    },
    {
      "cell_type": "code",
      "metadata": {
        "colab": {
          "base_uri": "https://localhost:8080/"
        },
        "id": "J4u1EBX3XG4A",
        "outputId": "99f16727-24ee-4ce8-98a4-a2f3324901b3"
      },
      "source": [
        "#빈 프로즌세트 생성 -> 프로즌세트 함수 이용\r\n",
        "efs=frozenset()\r\n",
        "type(efs)"
      ],
      "execution_count": null,
      "outputs": [
        {
          "output_type": "execute_result",
          "data": {
            "text/plain": [
              "frozenset"
            ]
          },
          "metadata": {
            "tags": []
          },
          "execution_count": 8
        }
      ]
    },
    {
      "cell_type": "code",
      "metadata": {
        "colab": {
          "base_uri": "https://localhost:8080/"
        },
        "id": "PfUswTtGXSnL",
        "outputId": "4bdffaa7-76d0-4e8f-f3db-4217545845e6"
      },
      "source": [
        "#프로즌세트 값 넣어서 생성\r\n",
        "efs=frozenset([1,2,6,3])\r\n",
        "efs"
      ],
      "execution_count": null,
      "outputs": [
        {
          "output_type": "execute_result",
          "data": {
            "text/plain": [
              "frozenset({1, 2, 3, 6})"
            ]
          },
          "metadata": {
            "tags": []
          },
          "execution_count": 10
        }
      ]
    },
    {
      "cell_type": "markdown",
      "metadata": {
        "id": "Dbf_gRRfYE0i"
      },
      "source": [
        "\r\n",
        "**세트 연산**\r\n",
        "* 요소 추가 : s.add(값)\r\n",
        "*   요소 제거 : s.remove(값)\r\n",
        "*   모든 요소 제거 : s.clear()<br><br>\r\n",
        "*   차집합 : s1.difference(s2) : s1 - s2\r\n",
        "*   교집합 : s1.intersection(s2) : s1 & s2\r\n",
        "*   합집합 : s1.union(s2) : s1 | s2 <br><br>\r\n",
        "\r\n",
        "*   대칭차집합/배타적논리합 : s1.symmetric_difference(s2) : s1 ^ s2<br> : 두 집합 중 하나에 있는 요소만 세트를 생성해서 반환\r\n",
        "*   부분집합<br> : s1.issubset(s2) : s1 <= s2<br>\r\n",
        ": s1의 요소가 모두 s2에 포함되어 있으면 True<br>\r\n",
        ": s1.issuperset(s2) : s1 >= s2<br>\r\n",
        ": s1이 s2의 요소를 모두 포함하면 True\r\n",
        "\r\n",
        "\r\n",
        "\r\n"
      ]
    },
    {
      "cell_type": "code",
      "metadata": {
        "colab": {
          "base_uri": "https://localhost:8080/"
        },
        "id": "HAm92i1EXdq-",
        "outputId": "0414f074-5bd4-45a3-dbe8-e02a96767e9c"
      },
      "source": [
        "var_set={1,2,3,5}\r\n",
        "var_set.add(7)\r\n",
        "var_set"
      ],
      "execution_count": null,
      "outputs": [
        {
          "output_type": "execute_result",
          "data": {
            "text/plain": [
              "{1, 2, 3, 5, 7}"
            ]
          },
          "metadata": {
            "tags": []
          },
          "execution_count": 14
        }
      ]
    },
    {
      "cell_type": "code",
      "metadata": {
        "colab": {
          "base_uri": "https://localhost:8080/"
        },
        "id": "TofLuPdpZpjU",
        "outputId": "92a14ea8-4f30-4cb4-e26d-106915c254e5"
      },
      "source": [
        "var_set.remove(3)\r\n",
        "var_set"
      ],
      "execution_count": null,
      "outputs": [
        {
          "output_type": "execute_result",
          "data": {
            "text/plain": [
              "{1, 2, 5, 7}"
            ]
          },
          "metadata": {
            "tags": []
          },
          "execution_count": 15
        }
      ]
    },
    {
      "cell_type": "code",
      "metadata": {
        "colab": {
          "base_uri": "https://localhost:8080/"
        },
        "id": "IroJVvzCZvFT",
        "outputId": "80d3aaaa-c118-496e-a8f2-2d695861c2a9"
      },
      "source": [
        "var_set.clear()\r\n",
        "var_set"
      ],
      "execution_count": null,
      "outputs": [
        {
          "output_type": "execute_result",
          "data": {
            "text/plain": [
              "set()"
            ]
          },
          "metadata": {
            "tags": []
          },
          "execution_count": 16
        }
      ]
    },
    {
      "cell_type": "code",
      "metadata": {
        "colab": {
          "base_uri": "https://localhost:8080/",
          "height": 188
        },
        "id": "OWWf7qg1Z40t",
        "outputId": "3d646fe2-74b3-411e-9bce-60b397d5b32f"
      },
      "source": [
        "efs=frozenset({1,2,3,5})\r\n",
        "efs.add(7) #프로즌세트 값 추가 불가능"
      ],
      "execution_count": null,
      "outputs": [
        {
          "output_type": "error",
          "ename": "AttributeError",
          "evalue": "ignored",
          "traceback": [
            "\u001b[0;31m---------------------------------------------------------------------------\u001b[0m",
            "\u001b[0;31mAttributeError\u001b[0m                            Traceback (most recent call last)",
            "\u001b[0;32m<ipython-input-17-56382113ccef>\u001b[0m in \u001b[0;36m<module>\u001b[0;34m()\u001b[0m\n\u001b[1;32m      1\u001b[0m \u001b[0mefs\u001b[0m\u001b[0;34m=\u001b[0m\u001b[0mfrozenset\u001b[0m\u001b[0;34m(\u001b[0m\u001b[0;34m{\u001b[0m\u001b[0;36m1\u001b[0m\u001b[0;34m,\u001b[0m\u001b[0;36m2\u001b[0m\u001b[0;34m,\u001b[0m\u001b[0;36m3\u001b[0m\u001b[0;34m,\u001b[0m\u001b[0;36m5\u001b[0m\u001b[0;34m}\u001b[0m\u001b[0;34m)\u001b[0m\u001b[0;34m\u001b[0m\u001b[0;34m\u001b[0m\u001b[0m\n\u001b[0;32m----> 2\u001b[0;31m \u001b[0mefs\u001b[0m\u001b[0;34m.\u001b[0m\u001b[0madd\u001b[0m\u001b[0;34m(\u001b[0m\u001b[0;36m7\u001b[0m\u001b[0;34m)\u001b[0m\u001b[0;34m\u001b[0m\u001b[0;34m\u001b[0m\u001b[0m\n\u001b[0m",
            "\u001b[0;31mAttributeError\u001b[0m: 'frozenset' object has no attribute 'add'"
          ]
        }
      ]
    },
    {
      "cell_type": "code",
      "metadata": {
        "colab": {
          "base_uri": "https://localhost:8080/"
        },
        "id": "lRk4d1YvaBc7",
        "outputId": "e78f4c38-1671-49b4-e13a-1cdb4f23c1fc"
      },
      "source": [
        "s1={1,2,3,5,8}\r\n",
        "s2={2,4,6,8}\r\n",
        "\r\n",
        "print(s1.difference(s2) )\r\n",
        "print(s1-s2)\r\n",
        "\r\n",
        "print(s1.intersection(s2)) #순서 없이 막 출력됨\r\n",
        "print(s1&s2)\r\n",
        "\r\n",
        "print(s1.union(s2))\r\n",
        "print(s1|s2) #s1+s2아님...\r\n",
        "\r\n",
        "print(s1.symmetric_difference(s2)) #교집합 제외한 모든 요소를 포함하는 새로운 세트 생성\r\n",
        "\r\n",
        "s3={1,2,3}\r\n",
        "print(s1.issuperset(s3))\r\n",
        "print(s3<=s1)\r\n",
        "print(s3.issuperset(s1))\r\n",
        "print(s1<=s3)"
      ],
      "execution_count": null,
      "outputs": [
        {
          "output_type": "stream",
          "text": [
            "{1, 3, 5}\n",
            "{1, 3, 5}\n",
            "{8, 2}\n",
            "{8, 2}\n",
            "{1, 2, 3, 4, 5, 6, 8}\n",
            "{1, 2, 3, 4, 5, 6, 8}\n",
            "{1, 3, 4, 5, 6}\n",
            "True\n",
            "True\n",
            "False\n",
            "False\n"
          ],
          "name": "stdout"
        }
      ]
    },
    {
      "cell_type": "markdown",
      "metadata": {
        "id": "-23q8SkXeTMk"
      },
      "source": [
        "**딕셔너리**<br>\r\n",
        "\r\n",
        "\r\n",
        "*   사전 : 단어와 단어에 대한 설명이 저장된 것\r\n",
        "*  딕셔너리 : 키와 값의 쌍이 정렬x인 상태로 모여있는 자료형<br>변수={값,값, ... }<br>변수={ }\r\n",
        "\r\n",
        "\r\n",
        "*   키 - 변경 x, 값 - 변경O <br>->키와 연결된 값을 얻기 위해 [키] 이용\r\n",
        "\r\n",
        "\r\n",
        "*   인덱스 없음 -> 인덱싱과 슬라이싱 없음\r\n",
        "\r\n",
        "\r\n",
        "\r\n",
        "\r\n"
      ]
    },
    {
      "cell_type": "code",
      "metadata": {
        "id": "U9DJm3S_alJJ",
        "colab": {
          "base_uri": "https://localhost:8080/"
        },
        "outputId": "13f435c8-0a4f-491e-9437-23059d5b009f"
      },
      "source": [
        "dict1={'a':10,\"b\":20,\"c\":30}\r\n",
        "print(dict1['a']) #요소 접근\r\n",
        "\r\n",
        "dict1['d']=40 #요소 추가\r\n",
        "print(dict1)\r\n",
        "\r\n",
        "del dict1['c'] #요소 삭제\r\n",
        "print(dict1)"
      ],
      "execution_count": null,
      "outputs": [
        {
          "output_type": "stream",
          "text": [
            "10\n",
            "{'a': 10, 'b': 20, 'c': 30, 'd': 40}\n",
            "{'a': 10, 'b': 20, 'd': 40}\n"
          ],
          "name": "stdout"
        }
      ]
    },
    {
      "cell_type": "markdown",
      "metadata": {
        "id": "lDNcMJMIf3jZ"
      },
      "source": [
        "\r\n",
        "\r\n",
        "*   키 목록 출력 : dict.keys() : 키를 세트 유사 형태로 반환\r\n",
        "*   값 목록 출력 : dict.values() : 값을 리스트 유사 형태로 반환\r\n",
        "*   키와 값의 쌍 목록 출력 : dict.items() : (키,값) 쌍을 세트 유사 형태로 반환\r\n",
        "*   모든 쌍 제거 : dict.clear() : 모든 (키,값) 쌍 제거\r\n",
        "\r\n"
      ]
    },
    {
      "cell_type": "code",
      "metadata": {
        "colab": {
          "base_uri": "https://localhost:8080/"
        },
        "id": "dI2SgMjtfKwQ",
        "outputId": "2d718c73-f374-4471-8401-7ad88027bb14"
      },
      "source": [
        "dict1={'a':10,\"b\":20}\r\n",
        "dict1.keys()"
      ],
      "execution_count": null,
      "outputs": [
        {
          "output_type": "execute_result",
          "data": {
            "text/plain": [
              "dict_keys(['a', 'b'])"
            ]
          },
          "metadata": {
            "tags": []
          },
          "execution_count": 32
        }
      ]
    },
    {
      "cell_type": "code",
      "metadata": {
        "colab": {
          "base_uri": "https://localhost:8080/"
        },
        "id": "_mfMmtQ8gsVe",
        "outputId": "2b8a60f6-2883-472e-ecb6-1df41c47fac2"
      },
      "source": [
        "dict1.values()"
      ],
      "execution_count": null,
      "outputs": [
        {
          "output_type": "execute_result",
          "data": {
            "text/plain": [
              "dict_values([10, 20])"
            ]
          },
          "metadata": {
            "tags": []
          },
          "execution_count": 33
        }
      ]
    },
    {
      "cell_type": "code",
      "metadata": {
        "colab": {
          "base_uri": "https://localhost:8080/"
        },
        "id": "C1cW4c73gwyj",
        "outputId": "ecb2b87d-807d-47bb-c898-005a7fd32bde"
      },
      "source": [
        "dict1.items()"
      ],
      "execution_count": null,
      "outputs": [
        {
          "output_type": "execute_result",
          "data": {
            "text/plain": [
              "dict_items([('a', 10), ('b', 20)])"
            ]
          },
          "metadata": {
            "tags": []
          },
          "execution_count": 34
        }
      ]
    },
    {
      "cell_type": "code",
      "metadata": {
        "colab": {
          "base_uri": "https://localhost:8080/"
        },
        "id": "WTL03JKbgzI_",
        "outputId": "296704bc-e0b6-4de1-a19a-11bf7b78af57"
      },
      "source": [
        "dict1.clear()\r\n",
        "dict1"
      ],
      "execution_count": null,
      "outputs": [
        {
          "output_type": "execute_result",
          "data": {
            "text/plain": [
              "{}"
            ]
          },
          "metadata": {
            "tags": []
          },
          "execution_count": 36
        }
      ]
    },
    {
      "cell_type": "code",
      "metadata": {
        "colab": {
          "base_uri": "https://localhost:8080/"
        },
        "id": "2LVP7dBLg1Vo",
        "outputId": "703d99bd-af17-4e34-cc3c-7e9a25ec8f42"
      },
      "source": [
        "dict1={'a':10,\"b\":20}\r\n",
        "\r\n",
        "dict1['c']=30\r\n",
        "print(dict1.items())\r\n",
        "\r\n",
        "del dict1['a']\r\n",
        "print(dict1.items())"
      ],
      "execution_count": null,
      "outputs": [
        {
          "output_type": "stream",
          "text": [
            "dict_items([('a', 10), ('b', 20), ('c', 30)])\n",
            "dict_items([('b', 20), ('c', 30)])\n"
          ],
          "name": "stdout"
        }
      ]
    },
    {
      "cell_type": "markdown",
      "metadata": {
        "id": "KeXmdiLthxiA"
      },
      "source": [
        "\r\n",
        "\r\n",
        "*   키와 연결된 값 읽어오기:<br>dict.get(key) : 키와 연결된 값 반환 : 없으면 None 반환<br>dict.get(key,value) : 키와 연결된 값 반환 : 없으면 value 반환\r\n",
        "\r\n",
        "*   키 제거:<br>dict.pop(key) : 키 제거하고 연결된 값 반환 : 키 없는 경우 오류<br>dict.pop(key,value) : 키 제거하고 연결된 값 반환 : 키 없는 경우 value 반환 \r\n",
        "*   딕셔너리 업데이트 : dict.update(other) : 딕셔너리 other 내용을 딕셔너리 dict으로 업데이트\r\n",
        "\r\n",
        "\r\n"
      ]
    },
    {
      "cell_type": "markdown",
      "metadata": {
        "id": "ojbu-GhAiyeM"
      },
      "source": [
        "**문자열 함수**<br>\r\n",
        "\r\n",
        "\r\n",
        "*   대소문자 변환:<br>capitalize() : 첫문자->대문자, 나머지->소문자<br>lower() : 모두 소문자<br>upper() : 모두 대문자<br>swapcase() : 모든 소문자->대문자, 모든 대문자 ->소문자<br><br>\r\n",
        "*   문자열 분할<br>split() : 문자열 내 공백으로 구분된 단어 리스트로 반환<br><br>\r\n",
        "\r\n",
        "*   공백 제거:<br>strip() : 앞뒤 공백 제거<br>lstrip() : 앞 공백 제거<br>rstrip() : 뒤 공백 제거\r\n",
        "\r\n",
        "\r\n",
        "\r\n"
      ]
    },
    {
      "cell_type": "code",
      "metadata": {
        "id": "lhUY4eAQhMMT"
      },
      "source": [
        "str1=\"Hello, Python\""
      ],
      "execution_count": null,
      "outputs": []
    },
    {
      "cell_type": "code",
      "metadata": {
        "colab": {
          "base_uri": "https://localhost:8080/",
          "height": 35
        },
        "id": "LpIBFQOajxT_",
        "outputId": "1b32e86e-9123-4ca8-c8a3-3f8fbe8f0c46"
      },
      "source": [
        "str1.upper()"
      ],
      "execution_count": null,
      "outputs": [
        {
          "output_type": "execute_result",
          "data": {
            "application/vnd.google.colaboratory.intrinsic+json": {
              "type": "string"
            },
            "text/plain": [
              "'HELLO, PYTHON'"
            ]
          },
          "metadata": {
            "tags": []
          },
          "execution_count": 44
        }
      ]
    },
    {
      "cell_type": "code",
      "metadata": {
        "colab": {
          "base_uri": "https://localhost:8080/"
        },
        "id": "uDTqt0qJjyve",
        "outputId": "236511fc-0579-4310-d98a-83b5c1661dc2"
      },
      "source": [
        "str1.split()"
      ],
      "execution_count": null,
      "outputs": [
        {
          "output_type": "execute_result",
          "data": {
            "text/plain": [
              "['Hello,', 'Python']"
            ]
          },
          "metadata": {
            "tags": []
          },
          "execution_count": 45
        }
      ]
    },
    {
      "cell_type": "code",
      "metadata": {
        "colab": {
          "base_uri": "https://localhost:8080/",
          "height": 35
        },
        "id": "SyFnPzvOj0RY",
        "outputId": "96059645-5ed3-456b-afd3-5967cb39181f"
      },
      "source": [
        "str2=\"      Hello, Python\"\r\n",
        "str2.lstrip()"
      ],
      "execution_count": null,
      "outputs": [
        {
          "output_type": "execute_result",
          "data": {
            "application/vnd.google.colaboratory.intrinsic+json": {
              "type": "string"
            },
            "text/plain": [
              "'Hello, Python'"
            ]
          },
          "metadata": {
            "tags": []
          },
          "execution_count": 46
        }
      ]
    },
    {
      "cell_type": "markdown",
      "metadata": {
        "id": "AW5h4B8Pj9fa"
      },
      "source": [
        "**자료형 비교**<br>\r\n",
        "![image.png](data:image/png;base64,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)"
      ]
    },
    {
      "cell_type": "code",
      "metadata": {
        "id": "ijfKd_CQj8rj"
      },
      "source": [
        ""
      ],
      "execution_count": null,
      "outputs": []
    }
  ]
}