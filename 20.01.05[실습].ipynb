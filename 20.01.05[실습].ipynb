{
  "nbformat": 4,
  "nbformat_minor": 0,
  "metadata": {
    "colab": {
      "name": "20.01.05[실습].ipynb",
      "provenance": [],
      "authorship_tag": "ABX9TyMfIHkuMNHJZ/KbEkQ4v6x0",
      "include_colab_link": true
    },
    "kernelspec": {
      "name": "python3",
      "display_name": "Python 3"
    }
  },
  "cells": [
    {
      "cell_type": "markdown",
      "metadata": {
        "id": "view-in-github",
        "colab_type": "text"
      },
      "source": [
        "<a href=\"https://colab.research.google.com/github/JangAyeon/Python_Lecture/blob/master/20.01.05%5B%EC%8B%A4%EC%8A%B5%5D.ipynb\" target=\"_parent\"><img src=\"https://colab.research.google.com/assets/colab-badge.svg\" alt=\"Open In Colab\"/></a>"
      ]
    },
    {
      "cell_type": "markdown",
      "metadata": {
        "id": "1azFNW3PvUBi"
      },
      "source": [
        "**1번**"
      ]
    },
    {
      "cell_type": "code",
      "metadata": {
        "colab": {
          "base_uri": "https://localhost:8080/"
        },
        "id": "NkDtgrdSvEhX",
        "outputId": "3b27d132-6c58-43a8-a384-161948935e88"
      },
      "source": [
        "x=0\r\n",
        "while x<=10: #값이 10보다 작거나 같은 동안 반복 수행\r\n",
        "  if x%2==0: #짝수일 때 값을 출력\r\n",
        "    print(x)\r\n",
        "  x+=1"
      ],
      "execution_count": 1,
      "outputs": [
        {
          "output_type": "stream",
          "text": [
            "0\n",
            "2\n",
            "4\n",
            "6\n",
            "8\n",
            "10\n"
          ],
          "name": "stdout"
        }
      ]
    },
    {
      "cell_type": "code",
      "metadata": {
        "colab": {
          "base_uri": "https://localhost:8080/"
        },
        "id": "EUkX8LwevkHq",
        "outputId": "d886550e-1cbc-45c8-a216-d5ae801daaa3"
      },
      "source": [
        "x=10\r\n",
        "while x>=0:\r\n",
        "  if x%2==0:\r\n",
        "    print(x)\r\n",
        "  x-=1"
      ],
      "execution_count": 2,
      "outputs": [
        {
          "output_type": "stream",
          "text": [
            "10\n",
            "8\n",
            "6\n",
            "4\n",
            "2\n",
            "0\n"
          ],
          "name": "stdout"
        }
      ]
    },
    {
      "cell_type": "code",
      "metadata": {
        "colab": {
          "base_uri": "https://localhost:8080/"
        },
        "id": "_OBzAOjnv3fm",
        "outputId": "acea8111-5fa4-459b-c7c5-97b3cd002e9a"
      },
      "source": [
        "for x in range(0,11): #0이상 11미만\r\n",
        "  if x%2==0:\r\n",
        "    print(x)"
      ],
      "execution_count": 3,
      "outputs": [
        {
          "output_type": "stream",
          "text": [
            "0\n",
            "2\n",
            "4\n",
            "6\n",
            "8\n",
            "10\n"
          ],
          "name": "stdout"
        }
      ]
    },
    {
      "cell_type": "markdown",
      "metadata": {
        "id": "_SFG4dlTydEN"
      },
      "source": [
        "**2번**"
      ]
    },
    {
      "cell_type": "code",
      "metadata": {
        "colab": {
          "base_uri": "https://localhost:8080/"
        },
        "id": "dImkZv8hwLpT",
        "outputId": "06d1525e-b4f6-4ea7-9536-acb4aed7af62"
      },
      "source": [
        "for x in range(0,5): #0 1 2 3 4 : 총 5줄 출력\r\n",
        "  star=\"\"\r\n",
        "  for y in range(0,x+1): # 별 0개를 x+1만큼 하나씩 증가\r\n",
        "    star+=\"*\"\r\n",
        "  print(star)\r\n"
      ],
      "execution_count": 7,
      "outputs": [
        {
          "output_type": "stream",
          "text": [
            "*\n",
            "**\n",
            "***\n",
            "****\n",
            "*****\n"
          ],
          "name": "stdout"
        }
      ]
    },
    {
      "cell_type": "code",
      "metadata": {
        "colab": {
          "base_uri": "https://localhost:8080/"
        },
        "id": "xYy6vzjJwiC8",
        "outputId": "d43abf30-2664-4e52-e18f-415ca3c34298"
      },
      "source": [
        "for x in range(0,5):\r\n",
        "  if x==0:\r\n",
        "    print(\"*\")\r\n",
        "  elif x==1:\r\n",
        "    print(\"**\")\r\n",
        "  elif x==2:\r\n",
        "    print(\"***\")\r\n",
        "  elif x==3:\r\n",
        "    print(\"****\")\r\n",
        "  elif x==4:\r\n",
        "    print(\"*****\")\r\n"
      ],
      "execution_count": 8,
      "outputs": [
        {
          "output_type": "stream",
          "text": [
            "*\n",
            "**\n",
            "***\n",
            "****\n",
            "*****\n"
          ],
          "name": "stdout"
        }
      ]
    },
    {
      "cell_type": "code",
      "metadata": {
        "colab": {
          "base_uri": "https://localhost:8080/"
        },
        "id": "gjMGwwloyBEb",
        "outputId": "2afc2497-aab0-4e81-c6fa-2a33226fa6c4"
      },
      "source": [
        "#자주 하는 실수 -> print()는 출력이 끝나면 줄바꿈을 수행함\r\n",
        "\r\n",
        "for x in range(0,5):\r\n",
        "  for y in range(0,x+1):\r\n",
        "    print(\"*\")\r\n",
        "  print(\"\\n\")"
      ],
      "execution_count": 10,
      "outputs": [
        {
          "output_type": "stream",
          "text": [
            "*\n",
            "\n",
            "\n",
            "*\n",
            "*\n",
            "\n",
            "\n",
            "*\n",
            "*\n",
            "*\n",
            "\n",
            "\n",
            "*\n",
            "*\n",
            "*\n",
            "*\n",
            "\n",
            "\n",
            "*\n",
            "*\n",
            "*\n",
            "*\n",
            "*\n",
            "\n",
            "\n"
          ],
          "name": "stdout"
        }
      ]
    },
    {
      "cell_type": "markdown",
      "metadata": {
        "id": "8LAHHV6ryfvZ"
      },
      "source": [
        "**3번**"
      ]
    },
    {
      "cell_type": "code",
      "metadata": {
        "colab": {
          "base_uri": "https://localhost:8080/"
        },
        "id": "Vsby6IudyHOy",
        "outputId": "a14cb6ff-fa0b-44dd-8a11-3e6076164171"
      },
      "source": [
        "while True:\r\n",
        "  score=int(input(\"점수를 입력하시오: \"))\r\n",
        "\r\n",
        "  if score<0 or score>100:          #범위에 벗어난 값인 경우 중단\r\n",
        "    print(\"잘못 입력하였습니다.\")   #조건식 작성 할 때 실수로 and 쓰면 안됨 : 100보다 크면서 -1보다 작을 순 없음\r\n",
        "    break\r\n",
        "  elif 90<=score:\r\n",
        "    grade=\"A\"\r\n",
        "  elif 80<=score:\r\n",
        "    grade=\"B\"\r\n",
        "  else:\r\n",
        "    grade=\"C\"\r\n",
        "  print(\"학점은 %s입니다\"%(grade))\r\n",
        "\r\n"
      ],
      "execution_count": 18,
      "outputs": [
        {
          "output_type": "stream",
          "text": [
            "점수를 입력하시오: 100\n",
            "학점은 A입니다\n",
            "점수를 입력하시오: 90\n",
            "학점은 A입니다\n",
            "점수를 입력하시오: 45\n",
            "학점은 C입니다\n",
            "점수를 입력하시오: 90\n",
            "학점은 A입니다\n",
            "점수를 입력하시오: -1\n",
            "잘못 입력하였습니다.\n"
          ],
          "name": "stdout"
        }
      ]
    },
    {
      "cell_type": "markdown",
      "metadata": {
        "id": "TmQ2PCoA0su2"
      },
      "source": [
        "****"
      ]
    },
    {
      "cell_type": "code",
      "metadata": {
        "colab": {
          "base_uri": "https://localhost:8080/"
        },
        "id": "GHLs3O-R2tf6",
        "outputId": "2d9b1247-c7bc-42c1-b2d5-1a8713e258b1"
      },
      "source": [
        "bread=10\r\n",
        "while bread>0:\r\n",
        "  money=int(input(\"현금을 입력하시오: \"))\r\n",
        "  if money>=500:\r\n",
        "    bread-=1\r\n",
        "    if money>500:\r\n",
        "      print(\"잔돈: \",money-500)\r\n",
        "    print(\"남아있는 빵의 갯수 \",bread)\r\n",
        "  else:\r\n",
        "    print(\"금액이 부족합니다\")"
      ],
      "execution_count": 22,
      "outputs": [
        {
          "output_type": "stream",
          "text": [
            "현금을 입력하시오: 260\n",
            "금액이 부족합니다\n",
            "현금을 입력하시오: 1000\n",
            "잔돈:  500\n",
            "남아있는 빵의 갯수  9\n",
            "현금을 입력하시오: 500\n",
            "남아있는 빵의 갯수  8\n",
            "현금을 입력하시오: 600\n",
            "잔돈:  100\n",
            "남아있는 빵의 갯수  7\n",
            "현금을 입력하시오: 400\n",
            "금액이 부족합니다\n",
            "현금을 입력하시오: 900\n",
            "잔돈:  400\n",
            "남아있는 빵의 갯수  6\n",
            "현금을 입력하시오: 500\n",
            "남아있는 빵의 갯수  5\n",
            "현금을 입력하시오: 500\n",
            "남아있는 빵의 갯수  4\n",
            "현금을 입력하시오: 500\n",
            "남아있는 빵의 갯수  3\n",
            "현금을 입력하시오: 500\n",
            "남아있는 빵의 갯수  2\n",
            "현금을 입력하시오: 500\n",
            "남아있는 빵의 갯수  1\n",
            "현금을 입력하시오: 500\n",
            "남아있는 빵의 갯수  0\n"
          ],
          "name": "stdout"
        }
      ]
    },
    {
      "cell_type": "code",
      "metadata": {
        "id": "piHoYdgOzU9T"
      },
      "source": [
        "money=int(input(\"현금을 입력하시오: \"))\r\n",
        "bread=10\r\n",
        "\r\n",
        "if money>500:\r\n",
        "  if (bread>0):\r\n",
        "    print(\"\")\r\n",
        "    빵-1\r\n",
        "  else:\r\n",
        "    판매중지\r\n",
        "    break\r\n",
        "else:\r\n",
        "  금액 부족\r\n"
      ],
      "execution_count": null,
      "outputs": []
    }
  ]
}