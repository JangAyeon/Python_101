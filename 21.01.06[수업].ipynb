{
  "nbformat": 4,
  "nbformat_minor": 0,
  "metadata": {
    "colab": {
      "name": "21.01.06[수업].ipynb",
      "provenance": [],
      "collapsed_sections": [],
      "authorship_tag": "ABX9TyPj2IWJsHOMRpfqlYozPqk5",
      "include_colab_link": true
    },
    "kernelspec": {
      "name": "python3",
      "display_name": "Python 3"
    }
  },
  "cells": [
    {
      "cell_type": "markdown",
      "metadata": {
        "id": "view-in-github",
        "colab_type": "text"
      },
      "source": [
        "<a href=\"https://colab.research.google.com/github/JangAyeon/Python_Lecture/blob/master/21.01.06%5B%EC%88%98%EC%97%85%5D.ipynb\" target=\"_parent\"><img src=\"https://colab.research.google.com/assets/colab-badge.svg\" alt=\"Open In Colab\"/></a>"
      ]
    },
    {
      "cell_type": "code",
      "metadata": {
        "colab": {
          "base_uri": "https://localhost:8080/"
        },
        "id": "HmwuWZ_MMQg4",
        "outputId": "0f38a639-08d7-45af-efb5-a72c3719f2bc"
      },
      "source": [
        "value=[1,2,3,4,5]\r\n",
        "for num in value:\r\n",
        "  num=num*2\r\n",
        "  print(num)\r\n",
        "print(value)\r\n",
        "\r\n",
        "#num은 2배씩 증가 되었지만 value 값은 변하지 않음"
      ],
      "execution_count": null,
      "outputs": [
        {
          "output_type": "stream",
          "text": [
            "2\n",
            "4\n",
            "6\n",
            "8\n",
            "10\n",
            "[1, 2, 3, 4, 5]\n"
          ],
          "name": "stdout"
        }
      ]
    },
    {
      "cell_type": "markdown",
      "metadata": {
        "id": "MnnGRD-wSxX_"
      },
      "source": [
        "**len**"
      ]
    },
    {
      "cell_type": "code",
      "metadata": {
        "colab": {
          "base_uri": "https://localhost:8080/"
        },
        "id": "MMOH6sLOMeNm",
        "outputId": "a14f0d9c-82cd-48db-cc15-5e14f2720f52"
      },
      "source": [
        "list1=[1,2,3,4,5]\r\n",
        "len(list1)\r\n"
      ],
      "execution_count": null,
      "outputs": [
        {
          "output_type": "execute_result",
          "data": {
            "text/plain": [
              "5"
            ]
          },
          "metadata": {
            "tags": []
          },
          "execution_count": 2
        }
      ]
    },
    {
      "cell_type": "code",
      "metadata": {
        "colab": {
          "base_uri": "https://localhost:8080/"
        },
        "id": "dXtwuFFfS4XB",
        "outputId": "9f5444ff-396b-4cc2-8445-874b80988e76"
      },
      "source": [
        "str1=\"Hello, Python\"\r\n",
        "len(str1)"
      ],
      "execution_count": null,
      "outputs": [
        {
          "output_type": "execute_result",
          "data": {
            "text/plain": [
              "13"
            ]
          },
          "metadata": {
            "tags": []
          },
          "execution_count": 5
        }
      ]
    },
    {
      "cell_type": "code",
      "metadata": {
        "colab": {
          "base_uri": "https://localhost:8080/"
        },
        "id": "l8BvA4wFS8_r",
        "outputId": "9efe856b-ba12-475c-a300-2cde3191148a"
      },
      "source": [
        "len(range(0,10))"
      ],
      "execution_count": null,
      "outputs": [
        {
          "output_type": "execute_result",
          "data": {
            "text/plain": [
              "10"
            ]
          },
          "metadata": {
            "tags": []
          },
          "execution_count": 6
        }
      ]
    },
    {
      "cell_type": "code",
      "metadata": {
        "colab": {
          "base_uri": "https://localhost:8080/"
        },
        "id": "cuAO2Nw1TEnA",
        "outputId": "9e31e05b-bee2-4060-cc59-c334eeab0d42"
      },
      "source": [
        "values=[1,2,3,4,5]\r\n",
        "\r\n",
        "len(values) #5\r\n",
        "\r\n",
        "range(len(values)) #range(5) : 0~4까지 값을 가지는 숫자 리스트 생성 \r\n",
        "\r\n",
        "for i in range(len(values)):\r\n",
        "  print(\"i=\",i)\r\n",
        "  values[i]*=2\r\n",
        "  print(\"values=\",values[i])\r\n",
        "print(values)"
      ],
      "execution_count": null,
      "outputs": [
        {
          "output_type": "stream",
          "text": [
            "i= 0\n",
            "values= 2\n",
            "i= 1\n",
            "values= 4\n",
            "i= 2\n",
            "values= 6\n",
            "i= 3\n",
            "values= 8\n",
            "i= 4\n",
            "values= 10\n",
            "[2, 4, 6, 8, 10]\n"
          ],
          "name": "stdout"
        }
      ]
    },
    {
      "cell_type": "markdown",
      "metadata": {
        "id": "Xa09G1A3UZnb"
      },
      "source": [
        "**병렬리스트**"
      ]
    },
    {
      "cell_type": "code",
      "metadata": {
        "colab": {
          "base_uri": "https://localhost:8080/"
        },
        "id": "GiRIPlpTT69M",
        "outputId": "78b5c6a4-372a-488d-e1bd-7be7d672162c"
      },
      "source": [
        "sub=['kor','eng','math']\r\n",
        "grade=[95,92,100] #교과목과 점수가 서로 대응\r\n",
        "\r\n",
        "for i in range(len(sub)): #하나의 인덱스로 두 리스트에 접근 가능\r\n",
        "  print(sub[i],grade[i])"
      ],
      "execution_count": null,
      "outputs": [
        {
          "output_type": "stream",
          "text": [
            "kor 95\n",
            "eng 92\n",
            "math 100\n"
          ],
          "name": "stdout"
        }
      ]
    },
    {
      "cell_type": "markdown",
      "metadata": {
        "id": "ETHc8cCiVFCB"
      },
      "source": [
        "**중첩리스트**"
      ]
    },
    {
      "cell_type": "code",
      "metadata": {
        "colab": {
          "base_uri": "https://localhost:8080/"
        },
        "id": "aVLJCPjbUqWC",
        "outputId": "f691d7b1-fda2-46f3-cd56-123f17568a4f"
      },
      "source": [
        "ele=[['li','na','k'],['f','cl']]\r\n",
        "for inner in ele:\r\n",
        "  print(inner)"
      ],
      "execution_count": null,
      "outputs": [
        {
          "output_type": "stream",
          "text": [
            "['li', 'na', 'k']\n",
            "['f', 'cl']\n"
          ],
          "name": "stdout"
        }
      ]
    },
    {
      "cell_type": "code",
      "metadata": {
        "colab": {
          "base_uri": "https://localhost:8080/"
        },
        "id": "0KMc0p0OVbzG",
        "outputId": "e6c40f35-58de-42e2-eced-9412e68a236e"
      },
      "source": [
        "ele=[['li','na','k'],['f','cl']]\r\n",
        "\r\n",
        "for inner in ele:\r\n",
        "  for item in inner: \r\n",
        "    print(item)"
      ],
      "execution_count": null,
      "outputs": [
        {
          "output_type": "stream",
          "text": [
            "li\n",
            "na\n",
            "k\n",
            "f\n",
            "cl\n"
          ],
          "name": "stdout"
        }
      ]
    },
    {
      "cell_type": "code",
      "metadata": {
        "colab": {
          "base_uri": "https://localhost:8080/"
        },
        "id": "2zl8sDT4Vq50",
        "outputId": "5d0a79ab-4d06-40b3-f3a1-a28065653e26"
      },
      "source": [
        "ele=[['li','na','k'],['f','cl']]\r\n",
        "\r\n",
        "for inner in ele:\r\n",
        "  for item in inner: \r\n",
        "    print(item)\r\n",
        "  print(\"\\n\") #내부의 리스트 구분해서 띄어서 출력하기 \r\n",
        "\r\n",
        "  #중간에 띄어쓰기 2개인 이유 : print로 줄바꿈 한 번 수행하고 \\n로 한번 더 수행해서 "
      ],
      "execution_count": null,
      "outputs": [
        {
          "output_type": "stream",
          "text": [
            "li\n",
            "na\n",
            "k\n",
            "\n",
            "\n",
            "f\n",
            "cl\n",
            "\n",
            "\n"
          ],
          "name": "stdout"
        }
      ]
    },
    {
      "cell_type": "code",
      "metadata": {
        "colab": {
          "base_uri": "https://localhost:8080/"
        },
        "id": "YqQanPZWWPer",
        "outputId": "f3bf6da9-7ec2-48de-c1a3-86816747d613"
      },
      "source": [
        "ele=[['li','na','k',[1,2,3]],['f','cl']]\r\n",
        "\r\n",
        "for inner in ele:\r\n",
        "  for in_inner in inner: \r\n",
        "    for item in in_inner:\r\n",
        "      print(item)"
      ],
      "execution_count": null,
      "outputs": [
        {
          "output_type": "stream",
          "text": [
            "l\n",
            "i\n",
            "n\n",
            "a\n",
            "k\n",
            "1\n",
            "2\n",
            "3\n",
            "f\n",
            "c\n",
            "l\n"
          ],
          "name": "stdout"
        }
      ]
    },
    {
      "cell_type": "code",
      "metadata": {
        "colab": {
          "base_uri": "https://localhost:8080/"
        },
        "id": "5eJJdeoPWxXx",
        "outputId": "da463e81-d2e0-480e-c75d-12a064c2178d"
      },
      "source": [
        "ele=['li','Na','K','F','Cl']\r\n",
        "i=0 #리스트 0번째 항목부터 검색\r\n",
        "\r\n",
        "value=input(\"탐색할 원소를 입력하세요: \") #검색값 입력 받음\r\n",
        "while i!=len(ele) and ele[i]!=value: #리스트 끝에 도달하거나 일치하는 요소 찾으면 중단\r\n",
        "  i+=1\r\n",
        "\r\n",
        "if i==len(ele): #리스트 끝까지 탐색하고도 원하는 값 찾지 못함 / while 탈출 직전에 i가 한 번 증가 되기 때문에 len()-1 아님\r\n",
        "  print(\"탐색 실패=원소가 존재 하지 않음\")\r\n",
        "else:\r\n",
        "  print(\"원소 %s는 %d번째에 있다\"%(value,i))"
      ],
      "execution_count": null,
      "outputs": [
        {
          "output_type": "stream",
          "text": [
            "탐색할 원소를 입력하세요: li\n",
            "원소 li는 0번째에 있다\n"
          ],
          "name": "stdout"
        }
      ]
    },
    {
      "cell_type": "code",
      "metadata": {
        "colab": {
          "base_uri": "https://localhost:8080/"
        },
        "id": "LtLkZZBGZn39",
        "outputId": "fd3aaf83-db07-4419-b93f-17941b1062db"
      },
      "source": [
        "ele=['li','na','k','f','cl']\r\n",
        "value=input(\"탐색할 원소를 입력하세요:\")\r\n",
        "\r\n",
        "for x in range(len(ele)):\r\n",
        "  if ele[x]==value:\r\n",
        "    print(\"원소 %s는 %d번째에 있음\"%(value,x))\r\n",
        "    break\r\n",
        "\r\n",
        "if x==len(ele)-1 and ele[x]!=[value]:\r\n",
        "  print(\"탐색 실패 = 원소가 존재하지 않음\")"
      ],
      "execution_count": null,
      "outputs": [
        {
          "output_type": "stream",
          "text": [
            "탐색할 원소를 입력하세요:na\n",
            "원소 na는 1번째에 있음\n"
          ],
          "name": "stdout"
        }
      ]
    },
    {
      "cell_type": "code",
      "metadata": {
        "id": "OmUKbfQ1dwR_"
      },
      "source": [
        ""
      ],
      "execution_count": null,
      "outputs": []
    }
  ]
}