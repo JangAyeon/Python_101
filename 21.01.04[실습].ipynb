{
  "nbformat": 4,
  "nbformat_minor": 0,
  "metadata": {
    "colab": {
      "name": "20.01.04[실습].ipynb",
      "provenance": [],
      "authorship_tag": "ABX9TyPp3X8CndrDx2vaZm1LxDgY",
      "include_colab_link": true
    },
    "kernelspec": {
      "name": "python3",
      "display_name": "Python 3"
    }
  },
  "cells": [
    {
      "cell_type": "markdown",
      "metadata": {
        "id": "view-in-github",
        "colab_type": "text"
      },
      "source": [
        "<a href=\"https://colab.research.google.com/github/JangAyeon/Python_Lecture/blob/master/20_01_04%5B%EC%8B%A4%EC%8A%B5%5D.ipynb\" target=\"_parent\"><img src=\"https://colab.research.google.com/assets/colab-badge.svg\" alt=\"Open In Colab\"/></a>"
      ]
    },
    {
      "cell_type": "markdown",
      "metadata": {
        "id": "l_GnJp8k005O"
      },
      "source": [
        "**1번**<br>\r\n",
        "\r\n",
        "홀수 : 2로 나누어 떨어지지 않은 수<br>\r\n",
        "짝수 : 2로 나누어 떨어지는 수<br>\r\n"
      ]
    },
    {
      "cell_type": "code",
      "metadata": {
        "colab": {
          "base_uri": "https://localhost:8080/"
        },
        "id": "c3rZOwD30wf6",
        "outputId": "290f5188-c02d-4203-c596-9ace04feae37"
      },
      "source": [
        "var=int(input(\"정수를 입력하시오: \"))\r\n",
        "if (var==0):\r\n",
        "  print(\"0입니다.\")\r\n",
        "elif (var%2==0):\r\n",
        "  print(\"짝수\")\r\n",
        "elif (var%2!=0):\r\n",
        "  print(\"홀수\")\r\n"
      ],
      "execution_count": 1,
      "outputs": [
        {
          "output_type": "stream",
          "text": [
            "정수를 입력하시오: 25\n",
            "홀수\n"
          ],
          "name": "stdout"
        }
      ]
    },
    {
      "cell_type": "code",
      "metadata": {
        "colab": {
          "base_uri": "https://localhost:8080/"
        },
        "id": "_WFEHYFK1lXw",
        "outputId": "63e0aca5-81fb-47e2-9d24-ef853dc34826"
      },
      "source": [
        "var=int(input(\"정수를 입력하시오: \"))\r\n",
        "if (var==0):\r\n",
        "  print(\"0입니다.\")\r\n",
        "elif (var%2==0):\r\n",
        "  print(\"짝수\")\r\n",
        "elif (var%2!=0):\r\n",
        "  print(\"홀수\")\r\n"
      ],
      "execution_count": 2,
      "outputs": [
        {
          "output_type": "stream",
          "text": [
            "정수를 입력하시오: 12\n",
            "짝수\n"
          ],
          "name": "stdout"
        }
      ]
    },
    {
      "cell_type": "code",
      "metadata": {
        "colab": {
          "base_uri": "https://localhost:8080/"
        },
        "id": "QNFz3yCJ2uvG",
        "outputId": "c8f97223-ff80-4543-c404-dcab7642b2d3"
      },
      "source": [
        "var=int(input(\"정수를 입력하시오: \"))\r\n",
        "if (var==0):\r\n",
        "  print(\"0입니다.\")\r\n",
        "elif (var%2==0):\r\n",
        "  print(\"짝수\")\r\n",
        "elif (var%2!=0):\r\n",
        "  print(\"홀수\")\r\n"
      ],
      "execution_count": 3,
      "outputs": [
        {
          "output_type": "stream",
          "text": [
            "정수를 입력하시오: 0\n",
            "0입니다.\n"
          ],
          "name": "stdout"
        }
      ]
    },
    {
      "cell_type": "markdown",
      "metadata": {
        "id": "lHgZKRJq6LuU"
      },
      "source": [
        "**2번**<br>\r\n",
        "키보드로 score 입력 <br>\r\n",
        "입력된 score로 grade 출력 <br>\r\n",
        "<br>\r\n",
        "A : 90점 이상 <br>\r\n",
        "B : 80점 이상 <br>\r\n",
        "C : 70점 이상 <br>\r\n",
        "D : 60점 이상 <br>\r\n",
        "F : 60점 미만 <br>"
      ]
    },
    {
      "cell_type": "code",
      "metadata": {
        "colab": {
          "base_uri": "https://localhost:8080/"
        },
        "id": "FjTxXe3K6Gmy",
        "outputId": "7c7c6926-ee00-427c-d57e-fc79863a305e"
      },
      "source": [
        "score=int(input(\"점수를 입력하시오: \"))\r\n",
        "\r\n",
        "if score>=90: grade='A'\r\n",
        "if score>=80 and score<90: grade='B' #조건식 범위 작성 주의\r\n",
        "if score>=70 and score<80: grade='C'\r\n",
        "if score>= 60 and score<70: grade='D'\r\n",
        "if score<60: grade='E'\r\n",
        "\r\n",
        "print(\"학점은 %s입니다.\"%(grade))"
      ],
      "execution_count": 7,
      "outputs": [
        {
          "output_type": "stream",
          "text": [
            "점수를 입력하시오: 92\n",
            "학점은 A입니다.\n"
          ],
          "name": "stdout"
        }
      ]
    },
    {
      "cell_type": "code",
      "metadata": {
        "colab": {
          "base_uri": "https://localhost:8080/"
        },
        "id": "CADbRmhD639I",
        "outputId": "e448a0b3-c19f-47e9-ca36-08c02f91f0f9"
      },
      "source": [
        "score=int(input(\"점수를 입력하시오: \"))\r\n",
        "if score>=90:\r\n",
        "    grade='A'\r\n",
        "elif score>=80:\r\n",
        "    grade='B'\r\n",
        "elif score>=70:\r\n",
        "    grade='C'\r\n",
        "elif score>=60:\r\n",
        "    grade='D'\r\n",
        "else:\r\n",
        "    grade='F'\r\n",
        "\r\n",
        "print(\"학점은 %s입니다\" %(grade))\r\n"
      ],
      "execution_count": 8,
      "outputs": [
        {
          "output_type": "stream",
          "text": [
            "점수를 입력하시오: 50\n",
            "학점은 F입니다\n"
          ],
          "name": "stdout"
        }
      ]
    },
    {
      "cell_type": "code",
      "metadata": {
        "colab": {
          "base_uri": "https://localhost:8080/"
        },
        "id": "Jbcv5PhL7505",
        "outputId": "a22d336a-33c6-4638-e555-336af183465d"
      },
      "source": [
        "score=int(input(\"점수를 입력하시오: \"))\r\n",
        "\r\n",
        "if (score>=60):\r\n",
        "  if (score>=70):\r\n",
        "    if (score>=80):\r\n",
        "      if (score>=90):\r\n",
        "        grade='A'  # 90 이상\r\n",
        "      else:\r\n",
        "        grade='B' # 80 이상 90 미만 \r\n",
        "    else:\r\n",
        "      grade='C' # 70 이상 80 미만\r\n",
        "  else:\r\n",
        "    grade='D' # 60 이상 70 미만 \r\n",
        "else:\r\n",
        "  grade=\"F\" # 60 미만\r\n",
        "\r\n",
        "\r\n",
        "print(\"학점은 %s입니다\" %(grade))"
      ],
      "execution_count": 10,
      "outputs": [
        {
          "output_type": "stream",
          "text": [
            "점수를 입력하시오: 59\n",
            "학점은 F입니다\n"
          ],
          "name": "stdout"
        }
      ]
    },
    {
      "cell_type": "markdown",
      "metadata": {
        "id": "rgszQZwt-i95"
      },
      "source": [
        "**3번**<br>\r\n",
        "7.0 초과 :  염기성 <br>\r\n",
        "7.0 미만 : 산성 -> 3.0 미만 \"주의! 강산성\" <br>\r\n",
        "7.0 : 중성 <br>"
      ]
    },
    {
      "cell_type": "code",
      "metadata": {
        "colab": {
          "base_uri": "https://localhost:8080/"
        },
        "id": "tqCau_o297Sx",
        "outputId": "e485fec4-2e3e-46ab-944e-ff2e3f261244"
      },
      "source": [
        "pH=float(input(\"pH 농도를 입력하세요: \"))\r\n",
        "\r\n",
        "if pH>7.0:\r\n",
        "  print(\"염기성\")\r\n",
        "elif pH<7.0:\r\n",
        "  print(\"산성\")\r\n",
        "  if(pH<3.0):\r\n",
        "    print(\"주의! 강산성\")\r\n",
        "else:\r\n",
        "  print(\"중성\")\r\n"
      ],
      "execution_count": 15,
      "outputs": [
        {
          "output_type": "stream",
          "text": [
            "pH 농도를 입력하세요: 2.7\n",
            "산성\n",
            "주의! 강산성\n"
          ],
          "name": "stdout"
        }
      ]
    },
    {
      "cell_type": "code",
      "metadata": {
        "colab": {
          "base_uri": "https://localhost:8080/"
        },
        "id": "X1evVPuP_6au",
        "outputId": "6ac374da-4154-469d-c5b0-7eb47ee536ce"
      },
      "source": [
        "#들여쓰기 함정! -> 시험에 낼 수도,,,\r\n",
        "\r\n",
        "pH=float(input(\"pH 농도를 입력하세요: \")) #5.5 입력하면 산성 중성 두 개 나옴\r\n",
        "\r\n",
        "if pH>7.0:  #조건문 if (1)\r\n",
        "  print(\"염기성\")\r\n",
        "elif pH<7.0:\r\n",
        "  print(\"산성\")\r\n",
        "if(pH<3.0): #조건문 if (2)\r\n",
        "  print(\"주의! 강산성\")\r\n",
        "else:\r\n",
        "  print(\"중성\")"
      ],
      "execution_count": 16,
      "outputs": [
        {
          "output_type": "stream",
          "text": [
            "pH 농도를 입력하세요: 5.5\n",
            "산성\n",
            "중성\n"
          ],
          "name": "stdout"
        }
      ]
    },
    {
      "cell_type": "code",
      "metadata": {
        "id": "HQIWIrNYAYHL"
      },
      "source": [
        ""
      ],
      "execution_count": null,
      "outputs": []
    }
  ]
}
