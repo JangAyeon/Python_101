{
  "nbformat": 4,
  "nbformat_minor": 0,
  "metadata": {
    "kernelspec": {
      "display_name": "Python 3",
      "language": "python",
      "name": "python3"
    },
    "language_info": {
      "codemirror_mode": {
        "name": "ipython",
        "version": 3
      },
      "file_extension": ".py",
      "mimetype": "text/x-python",
      "name": "python",
      "nbconvert_exporter": "python",
      "pygments_lexer": "ipython3",
      "version": "3.8.5"
    },
    "colab": {
      "name": "20.12.31[수업].ipynb",
      "provenance": [],
      "collapsed_sections": [],
      "include_colab_link": true
    }
  },
  "cells": [
    {
      "cell_type": "markdown",
      "metadata": {
        "id": "view-in-github",
        "colab_type": "text"
      },
      "source": [
        "<a href=\"https://colab.research.google.com/github/JangAyeon/Python_Lecture/blob/master/20.12.31%5B%EC%88%98%EC%97%85%5D.ipynb\" target=\"_parent\"><img src=\"https://colab.research.google.com/assets/colab-badge.svg\" alt=\"Open In Colab\"/></a>"
      ]
    },
    {
      "cell_type": "markdown",
      "metadata": {
        "id": "7e9YXpiHmxY0"
      },
      "source": [
        "**type():변수 또는 값의 자료형 확인 가능**"
      ]
    },
    {
      "cell_type": "code",
      "metadata": {
        "id": "7iUbCL0kmxY7",
        "outputId": "3401c8eb-f6fb-4e09-eaac-ebb2c2d966f1"
      },
      "source": [
        "#값으로 자료형 확인\n",
        "\n",
        "print(\"10 자료형: \", type(10))\n",
        "print(\"3.14 자료형: \", type(3.14))\n",
        "print(\"2+3j 자료형: \", type(2+3j))\n",
        "print(\"'abc' 자료형: \", type('abc'))"
      ],
      "execution_count": null,
      "outputs": [
        {
          "output_type": "stream",
          "text": [
            "10 자료형:  <class 'int'>\n",
            "3.14 자료형:  <class 'float'>\n",
            "2+3j 자료형:  <class 'complex'>\n",
            "'abc' 자료형:  <class 'str'>\n"
          ],
          "name": "stdout"
        }
      ]
    },
    {
      "cell_type": "code",
      "metadata": {
        "id": "egHpgehjmxZF",
        "outputId": "e3f6fa2d-5d5f-4608-b86e-30e988b693ac"
      },
      "source": [
        "#변수로 자료형 확인\n",
        "\n",
        "a=10;b=3.14;c=2+3j;d='abc'\n",
        "print(\"a 자료형: \", type(a))\n",
        "print(\"b 자료형: \", type(b))\n",
        "print(\"c 자료형: \", type(c))\n",
        "print(\"d 자료형: \", type(d))"
      ],
      "execution_count": null,
      "outputs": [
        {
          "output_type": "stream",
          "text": [
            "a 자료형:  <class 'int'>\n",
            "b 자료형:  <class 'float'>\n",
            "c 자료형:  <class 'complex'>\n",
            "d 자료형:  <class 'str'>\n"
          ],
          "name": "stdout"
        }
      ]
    },
    {
      "cell_type": "markdown",
      "metadata": {
        "id": "T8kbhxaXmxZH"
      },
      "source": [
        "**진수 출력**<br><br>\n",
        "10진수->2진수 bin(값)<BR>\n",
        "10진수->8진수 oct(값)<br>\n",
        "10진수->16진수 hex(값)<br>\n",
        "\n",
        "주의:출력 결과는 문자열 형태 "
      ]
    },
    {
      "cell_type": "code",
      "metadata": {
        "id": "ghX-DKEFmxZJ",
        "outputId": "ec0afcf5-f5ce-49ee-8b98-3e4568596ba3"
      },
      "source": [
        "print('127의 이진수: ',bin(127))\n",
        "print('127의 8진수: ',oct(127))\n",
        "print('127의 16진수:',hex(127))\n",
        "type(bin(127))"
      ],
      "execution_count": null,
      "outputs": [
        {
          "output_type": "stream",
          "text": [
            "127의 이진수:  0b1111111\n",
            "127의 8진수:  0o177\n",
            "127의 16진수: 0x7f\n"
          ],
          "name": "stdout"
        },
        {
          "output_type": "execute_result",
          "data": {
            "text/plain": [
              "str"
            ]
          },
          "metadata": {
            "tags": []
          },
          "execution_count": 3
        }
      ]
    },
    {
      "cell_type": "markdown",
      "metadata": {
        "id": "pmWEN_3gmxZL"
      },
      "source": [
        "**~ 연산**<br>\n",
        "<br>\n",
        "값 앞에 부호 비트 (0:양수,1:음수) 있음 <BR>\n",
        "~X의 값: -X-1"
      ]
    },
    {
      "cell_type": "code",
      "metadata": {
        "id": "nDvqunU6mxZN",
        "outputId": "b561309f-b673-4d39-8289-2c3f25b2f72a"
      },
      "source": [
        "a=-4\n",
        "print('4의 ~연산: ',~a)\n",
        "a=0x1\n",
        "print('0x1의 ~연산: ',~a)"
      ],
      "execution_count": null,
      "outputs": [
        {
          "output_type": "stream",
          "text": [
            "4의 ~연산:  3\n",
            "0x1의 ~연산:  -2\n"
          ],
          "name": "stdout"
        }
      ]
    },
    {
      "cell_type": "markdown",
      "metadata": {
        "id": "sZIpYpCmmxZQ"
      },
      "source": [
        "**문자열**<br>\n",
        "\"\" 또는 '' 이용<BR><br>\n",
        "**이스케이프 문자**<br>\n",
        "\\n : 줄 바꿈, \\t : 탭, \\0 : NULL문자<BR>\n",
        "\\\\\\ : 문자 \\\\, \\$ : 문자 $ , \\' : 문자 ' , \\\" : 문자 \""
      ]
    },
    {
      "cell_type": "code",
      "metadata": {
        "id": "Bv-ak_qOmxZR",
        "outputId": "7464205b-c647-470f-f600-b9aeeb7bb3d3"
      },
      "source": [
        "print(\"ABC\")\n",
        "print(\"\\\"ABC\\\"\")\n",
        "print(\"ABC\\nDEF\")\n",
        "print(\"ABC\\tDEF\")\n",
        "print('''ABC\n",
        "DEF''')\n",
        "\n",
        "print('ABC\\\n",
        "DEF')"
      ],
      "execution_count": null,
      "outputs": [
        {
          "output_type": "stream",
          "text": [
            "ABC\n",
            "\"ABC\"\n",
            "ABC\n",
            "DEF\n",
            "ABC\tDEF\n",
            "ABC\n",
            "DEF\n",
            "ABCDEF\n"
          ],
          "name": "stdout"
        }
      ]
    },
    {
      "cell_type": "markdown",
      "metadata": {
        "id": "iLBuy0upmxZT"
      },
      "source": [
        "**문자열 연산**<br><br>\n",
        "+:문자열 연결<br>\n",
        "문자열 상수는 +기호 생략 가능<BR><br>\n",
        "*:문자열 반복<BR>\n",
        "   "
      ]
    },
    {
      "cell_type": "code",
      "metadata": {
        "id": "AdfQkZ4smxZV",
        "outputId": "df904912-d4dd-4c32-f3e5-8e56d9673ac8"
      },
      "source": [
        "#문자열 상수\n",
        "print(\"ABC\"+\"DEF\")\n",
        "print(\"ABC\"*5)\n",
        "print(\"ABC\" \"DEF\") #문자열 상수 + 연산자 생략 가능"
      ],
      "execution_count": null,
      "outputs": [
        {
          "output_type": "stream",
          "text": [
            "ABCDEF\n",
            "ABCABCABCABCABC\n",
            "ABCDEF\n"
          ],
          "name": "stdout"
        }
      ]
    },
    {
      "cell_type": "code",
      "metadata": {
        "id": "qY3orr5bmxZY",
        "outputId": "7bfddd2a-7905-489e-878c-0ce68c56939c"
      },
      "source": [
        "#문자열 변수\n",
        "str1=\"Hello\"\n",
        "str2=\"Python\"\n",
        "print(str1+str2)\n",
        "print(str1*3)"
      ],
      "execution_count": null,
      "outputs": [
        {
          "output_type": "stream",
          "text": [
            "HelloPython\n",
            "HelloHelloHello\n"
          ],
          "name": "stdout"
        }
      ]
    },
    {
      "cell_type": "code",
      "metadata": {
        "id": "4Y5MIIJJmxZZ",
        "outputId": "0e376c06-c523-4711-c724-7bcba47dba75"
      },
      "source": [
        "#문자열 변수는 + 연산자 생략 불가능\n",
        "print(str1 str2)"
      ],
      "execution_count": null,
      "outputs": [
        {
          "output_type": "error",
          "ename": "SyntaxError",
          "evalue": "invalid syntax (<ipython-input-4-d88f561e88e8>, line 2)",
          "traceback": [
            "\u001b[1;36m  File \u001b[1;32m\"<ipython-input-4-d88f561e88e8>\"\u001b[1;36m, line \u001b[1;32m2\u001b[0m\n\u001b[1;33m    print(str1 str2)\u001b[0m\n\u001b[1;37m               ^\u001b[0m\n\u001b[1;31mSyntaxError\u001b[0m\u001b[1;31m:\u001b[0m invalid syntax\n"
          ]
        }
      ]
    },
    {
      "cell_type": "markdown",
      "metadata": {
        "id": "WwY4k9JVmxZb"
      },
      "source": [
        "**인덱싱**<br>\n",
        ":문자열에서 해당 위치의 문자 선택<br><br>\n",
        "왼쪽에서 0부터 1씩 증가<br>\n",
        "오른쪽에서 -1부터 -1씩 증가<br>"
      ]
    },
    {
      "cell_type": "code",
      "metadata": {
        "id": "hjCP7aiUmxZc",
        "outputId": "55bf00a5-1cd0-4bad-d7e0-cc5bc1cfcc07"
      },
      "source": [
        "str=\"Hello, Python!\"\n",
        "print('str[0]:',str[0])\n",
        "print('str[6]:',str[6])\n",
        "print('str[13]:',str[13])\n",
        "print('str[-2]:',str[-2])\n",
        "print('str[-9]:',str[-9])"
      ],
      "execution_count": null,
      "outputs": [
        {
          "output_type": "stream",
          "text": [
            "str[0]: H\n",
            "str[6]:  \n",
            "str[13]: !\n",
            "str[-2]: n\n",
            "str[-9]: ,\n"
          ],
          "name": "stdout"
        }
      ]
    },
    {
      "cell_type": "code",
      "metadata": {
        "id": "5urGDzRBmxZe",
        "outputId": "1174350b-5ab1-42fe-96dd-bfcc427ad225"
      },
      "source": [
        "#인덱스 범위 벗어나면 오류 발생\n",
        "print(str[14])\n",
        "print(str[-15])"
      ],
      "execution_count": null,
      "outputs": [
        {
          "output_type": "error",
          "ename": "IndexError",
          "evalue": "string index out of range",
          "traceback": [
            "\u001b[1;31m---------------------------------------------------------------------------\u001b[0m",
            "\u001b[1;31mIndexError\u001b[0m                                Traceback (most recent call last)",
            "\u001b[1;32m<ipython-input-34-a0d162163bf0>\u001b[0m in \u001b[0;36m<module>\u001b[1;34m\u001b[0m\n\u001b[0;32m      1\u001b[0m \u001b[1;31m#인덱스 범위 벗어나면 오류 발생\u001b[0m\u001b[1;33m\u001b[0m\u001b[1;33m\u001b[0m\u001b[1;33m\u001b[0m\u001b[0m\n\u001b[1;32m----> 2\u001b[1;33m \u001b[0mprint\u001b[0m\u001b[1;33m(\u001b[0m\u001b[0mstr\u001b[0m\u001b[1;33m[\u001b[0m\u001b[1;36m14\u001b[0m\u001b[1;33m]\u001b[0m\u001b[1;33m)\u001b[0m\u001b[1;33m\u001b[0m\u001b[1;33m\u001b[0m\u001b[0m\n\u001b[0m\u001b[0;32m      3\u001b[0m \u001b[0mprint\u001b[0m\u001b[1;33m(\u001b[0m\u001b[0mstr\u001b[0m\u001b[1;33m[\u001b[0m\u001b[1;33m-\u001b[0m\u001b[1;36m15\u001b[0m\u001b[1;33m]\u001b[0m\u001b[1;33m)\u001b[0m\u001b[1;33m\u001b[0m\u001b[1;33m\u001b[0m\u001b[0m\n",
            "\u001b[1;31mIndexError\u001b[0m: string index out of range"
          ]
        }
      ]
    },
    {
      "cell_type": "markdown",
      "metadata": {
        "id": "iidIF0n8mxZg"
      },
      "source": [
        "**슬라이싱**<br><br>\n",
        "변수[시작(이상) : 끝(미만)]<br>\n",
        "건너뛰기 : 변수[::간격]"
      ]
    },
    {
      "cell_type": "code",
      "metadata": {
        "id": "C7tey2Y0mxZh",
        "outputId": "0495660b-1308-462c-99c4-5bb890bb903b"
      },
      "source": [
        "str=\"Hello, Python!\"\n",
        "\n",
        "print(\"str[7:9]\",str[7:9]) # 7이상 9미만의 글자 가져오기\n",
        "print(\"str[-7:-5]\",str[-7:-5]) #음수 인덱싱도 가능 : -7이상 -5미만 : -7,-6 해당 값"
      ],
      "execution_count": null,
      "outputs": [
        {
          "output_type": "stream",
          "text": [
            "str[7:9] Py\n",
            "str[-7:-5] Py\n"
          ],
          "name": "stdout"
        }
      ]
    },
    {
      "cell_type": "code",
      "metadata": {
        "id": "GMDxyTt9mxZj",
        "outputId": "c0f9ce0d-772f-4bfb-9000-25732d882de1"
      },
      "source": [
        "#시작 위치 끝 위치 생략 가능\n",
        "\n",
        "print(\"str[7:]\",str[7:]) # 7이상 모든 문자\n",
        "print(\"str[:2]\",str[:2]) # 2미만 모든 문자\n",
        "print(\"str[:]\",str[:]) # 모든 문자"
      ],
      "execution_count": null,
      "outputs": [
        {
          "output_type": "stream",
          "text": [
            "str[7:] Python!\n",
            "str[:2] He\n",
            "str[:] Hello, Python!\n"
          ],
          "name": "stdout"
        }
      ]
    },
    {
      "cell_type": "code",
      "metadata": {
        "id": "yCmMlVnRmxZk",
        "outputId": "560533cc-008e-4f6b-adf9-cb6a7b888b5d"
      },
      "source": [
        "#건너 뛰기 가능 \n",
        "str[::3] # 간격이 3으로 0 3 6 9 12 인덱스 가져옴"
      ],
      "execution_count": null,
      "outputs": [
        {
          "output_type": "execute_result",
          "data": {
            "text/plain": [
              "'Hl tn'"
            ]
          },
          "metadata": {
            "tags": []
          },
          "execution_count": 40
        }
      ]
    },
    {
      "cell_type": "markdown",
      "metadata": {
        "id": "Wzbgg8lSmxZm"
      },
      "source": [
        "**리스트\n",
        ":순서가 있는 값 나열**<br><br>\n",
        "변수=[값,값,값, ... ]<br>\n",
        "여러 데이터 형식으로 하나의 리스트 생성 가능<br>\n",
        "추가,제어,수정 가능"
      ]
    },
    {
      "cell_type": "code",
      "metadata": {
        "id": "IOFqyqLAmxZm",
        "outputId": "c39f9d9d-8727-4237-ab87-345c0dad5554"
      },
      "source": [
        "list1=[1,2,3,4,5] #정수 리스트\n",
        "print(\"list1: \",list1)\n",
        "list2=['a','b','c'] #문자 리스트\n",
        "print(\"list2: \",list2)\n",
        "list3=[3.14,'a','b','Hello',123] #복합 리스트\n",
        "print(\"list3: \",list3)\n",
        "list4=[1,2,3,'a','b','c',[0.1,0.2,0.3],list3] #복합 리스트 (리스트 안에 리스트 가능)\n",
        "print(\"list4: \",list4)"
      ],
      "execution_count": null,
      "outputs": [
        {
          "output_type": "stream",
          "text": [
            "list1:  [1, 2, 3, 4, 5]\n",
            "list2:  ['a', 'b', 'c']\n",
            "list3:  [3.14, 'a', 'b', 'Hello', 123]\n",
            "list4:  [1, 2, 3, 'a', 'b', 'c', [0.1, 0.2, 0.3], [3.14, 'a', 'b', 'Hello', 123]]\n"
          ],
          "name": "stdout"
        }
      ]
    },
    {
      "cell_type": "markdown",
      "metadata": {
        "id": "LskO7YAKmxZo"
      },
      "source": [
        "**리스트 인덱싱/슬라이싱**"
      ]
    },
    {
      "cell_type": "code",
      "metadata": {
        "id": "Ejz_QFEJmxZp",
        "outputId": "7c4136c4-3741-4c20-8443-6ea459c96737"
      },
      "source": [
        "list1=[1,2,3,4,5] #정수 리스트\n",
        "print(\"list1: \",list1)\n",
        "print('list1[0]: ',list1[0])\n",
        "print('list1[2]: ',list1[2])\n",
        "print('list1[4]: ',list1[4])\n",
        "print('list1[-1]: ',list1[-1])"
      ],
      "execution_count": null,
      "outputs": [
        {
          "output_type": "stream",
          "text": [
            "list1:  [1, 2, 3, 4, 5]\n",
            "list1[0]:  1\n",
            "list1[2]:  3\n",
            "list1[4]:  5\n",
            "list1[-1]:  5\n"
          ],
          "name": "stdout"
        }
      ]
    },
    {
      "cell_type": "code",
      "metadata": {
        "id": "feC-VmAtmxZq",
        "outputId": "11ccc4b9-0c8b-4c4a-c34d-8f9172e4a0a3"
      },
      "source": [
        "list4=[1,2,3,'a','b','c',[0.1,0.2,0.3],list3] #복합 리스트 (리스트 안에 리스트 가능)\n",
        "print(\"list4: \",list4)\n",
        "print(\"list4[0]: \",list4[0])\n",
        "print(\"list4[5]: \",list4[5])\n",
        "print(\"list4[6]: \",list4[6])\n",
        "print(\"list4[7]: \",list4[7])\n",
        "\n",
        "print(\"list4[6][0]: \",list4[6][0])\n",
        "print(\"list4[6][2]: \",list4[6][2])\n",
        "\n",
        "print(\"list4[-1]: \",list4[-1])\n",
        "print(\"list4[-1][-1]: \",list4[-1][-1])\n",
        "print(\"list4[-2]: \",list4[-2])\n",
        "print(\"list4[-2][-2]: \",list4[-2][-2])"
      ],
      "execution_count": null,
      "outputs": [
        {
          "output_type": "stream",
          "text": [
            "list4:  [1, 2, 3, 'a', 'b', 'c', [0.1, 0.2, 0.3], [3.14, 'a', 'b', 'Hello', 123]]\n",
            "list4[0]:  1\n",
            "list4[5]:  c\n",
            "list4[6]:  [0.1, 0.2, 0.3]\n",
            "list4[7]:  [3.14, 'a', 'b', 'Hello', 123]\n",
            "list4[6][0]:  0.1\n",
            "list4[6][2]:  0.3\n",
            "list4[-1]:  [3.14, 'a', 'b', 'Hello', 123]\n",
            "list4[-1][-1]:  123\n",
            "list4[-2]:  [0.1, 0.2, 0.3]\n",
            "list4[-2][-2]:  0.2\n"
          ],
          "name": "stdout"
        }
      ]
    },
    {
      "cell_type": "markdown",
      "metadata": {
        "id": "8U-7xuLrmxZs"
      },
      "source": [
        "**리스트 연산**<br>"
      ]
    },
    {
      "cell_type": "code",
      "metadata": {
        "id": "Rtc77qo6mxZt",
        "outputId": "65dae5b4-11ed-42c1-d041-20ab652a08e0"
      },
      "source": [
        "list1=[0,1,2]\n",
        "list2=['a','b','c']\n",
        "print(\"list1: \",list1)\n",
        "print(\"list2: \",list2)\n",
        "\n",
        "print(\"list1 + list2 : \",list1+list2)\n",
        "print(\"list1 * 3 : \",list1*3)"
      ],
      "execution_count": null,
      "outputs": [
        {
          "output_type": "stream",
          "text": [
            "list1:  [0, 1, 2]\n",
            "list2:  ['a', 'b', 'c']\n",
            "list1 + list2 :  [0, 1, 2, 'a', 'b', 'c']\n",
            "list1 * 3 :  [0, 1, 2, 0, 1, 2, 0, 1, 2]\n"
          ],
          "name": "stdout"
        }
      ]
    },
    {
      "cell_type": "markdown",
      "metadata": {
        "id": "41hKS7s7mxZu"
      },
      "source": [
        "**리스트 관련 함수**<br><br>\n",
        "추가 함수: 변수.append(값)<br>\n",
        "삽입 함수: 변수.insert(위치,값)<br>\n",
        "확장 함수: 변수.extend(리스트) : 리스트에 여러 개의 값 추가<br>\n",
        "위치 함수: 변수.index(값,시작위치(optimal),끝위치(optimal)) : 리스트에 있는 특정 요소의 위치 확인<br>\n",
        "요소 갯수 함수: 변수.count(값) : 리스트에 존재하는 특정 요소 갯수<br>\n",
        "요소 꺼내기 함수: 변수.pop(꺼내려는 요소 위치(optimal))<br>\n",
        "요소 제거 함수: 변수.remove(값)<br>\n",
        "정렬 함수: 변수.sort(정렬방식(optimal))<br>\n",
        "반전 함수: 변수.reverse() : 리스트를 역순으로 뒤집음<br>\n"
      ]
    },
    {
      "cell_type": "code",
      "metadata": {
        "id": "I29w8C6dmxZw",
        "outputId": "91112156-6366-46ce-d49b-5f95ff385fa4"
      },
      "source": [
        "list1=[1,2,3]\n",
        "list1.append(4)\n",
        "print(\"list1.append(4): \",list1)\n",
        "list1.insert(2,2.5)\n",
        "print(\"list1.insert(2,2.5): \",list1)\n",
        "list1.extend([5,6,7,2])\n",
        "print(\"list1.extend([5,6,7,2]): \",list1)\n",
        "list1.index(3)\n",
        "print(\"list1 속 3의 index값: \",list1.index(3))"
      ],
      "execution_count": null,
      "outputs": [
        {
          "output_type": "stream",
          "text": [
            "list1.append(4):  [1, 2, 3, 4]\n",
            "list1.insert(2,2.5):  [1, 2, 2.5, 3, 4]\n",
            "list1.extend([5,6,7,2]):  [1, 2, 2.5, 3, 4, 5, 6, 7, 2]\n",
            "list1 속 3의 index값:  3\n"
          ],
          "name": "stdout"
        }
      ]
    },
    {
      "cell_type": "code",
      "metadata": {
        "id": "kJKeuhuDmxZx",
        "outputId": "d522c3f2-f49a-4ae0-c327-060a4f13050b"
      },
      "source": [
        "list1.index(3,4,6) #에러: 찾고자 하는 위치 안에 숫자 3이 없음"
      ],
      "execution_count": null,
      "outputs": [
        {
          "output_type": "error",
          "ename": "ValueError",
          "evalue": "3 is not in list",
          "traceback": [
            "\u001b[1;31m---------------------------------------------------------------------------\u001b[0m",
            "\u001b[1;31mValueError\u001b[0m                                Traceback (most recent call last)",
            "\u001b[1;32m<ipython-input-84-ca56762f48d6>\u001b[0m in \u001b[0;36m<module>\u001b[1;34m\u001b[0m\n\u001b[1;32m----> 1\u001b[1;33m \u001b[0mlist1\u001b[0m\u001b[1;33m.\u001b[0m\u001b[0mindex\u001b[0m\u001b[1;33m(\u001b[0m\u001b[1;36m3\u001b[0m\u001b[1;33m,\u001b[0m\u001b[1;36m4\u001b[0m\u001b[1;33m,\u001b[0m\u001b[1;36m6\u001b[0m\u001b[1;33m)\u001b[0m \u001b[1;31m#에러: 찾고자 하는 위치 안에 숫자 3이 없음\u001b[0m\u001b[1;33m\u001b[0m\u001b[1;33m\u001b[0m\u001b[0m\n\u001b[0m",
            "\u001b[1;31mValueError\u001b[0m: 3 is not in list"
          ]
        }
      ]
    },
    {
      "cell_type": "code",
      "metadata": {
        "id": "d5eckzmpmxZy",
        "outputId": "9ff5eb15-8c94-453b-e5fd-36d65a1c5e1d"
      },
      "source": [
        "print(\"값이 2인 요소의 갯수: \",list1.count(2))\n",
        "print(\"값이 3인 요소의 갯수: \",list1.count(3))"
      ],
      "execution_count": null,
      "outputs": [
        {
          "output_type": "stream",
          "text": [
            "값이 2인 요소의 갯수:  2\n",
            "값이 3인 요소의 갯수:  1\n"
          ],
          "name": "stdout"
        }
      ]
    },
    {
      "cell_type": "code",
      "metadata": {
        "id": "odSfi1VpmxZz",
        "outputId": "6557fedb-146e-4cee-95b4-412ec21f9d48"
      },
      "source": [
        "print(\"list1.pop(): \",list1.pop()) #가장 끝에 있는 2가 빠져나오고 그 값을 반환해줌\n",
        "print(\"list1: \",list1)\n",
        "\n",
        "print(\"list1.pop(2): \",list1.pop(2)) #빠져나올 값의 위치를 지정하여 그 위치의 값이 빠져나오고 그 값을 반환해줌\n",
        "print(\"list1: \",list1)\n",
        "\n",
        "print(\"list1.remove(5): \",list1.remove(5)) #제거할 값을 입력하여 제거하고 반환값 없음\n",
        "print(\"list1: \",list1)"
      ],
      "execution_count": null,
      "outputs": [
        {
          "output_type": "stream",
          "text": [
            "list1.pop():  2\n",
            "list1:  [1, 2, 2.5, 3, 4, 5, 6, 7]\n",
            "list1.pop(2):  2.5\n",
            "list1:  [1, 2, 3, 4, 5, 6, 7]\n",
            "list1.remove(5):  None\n",
            "list1:  [1, 2, 3, 4, 6, 7]\n"
          ],
          "name": "stdout"
        }
      ]
    },
    {
      "cell_type": "code",
      "metadata": {
        "id": "MiOkzwNzmxZ1",
        "outputId": "6f35c061-5404-4de7-c15c-ecfc446a6c76"
      },
      "source": [
        "list1.append(5)\n",
        "print(\"list1.append(5): \",list1) #가장 뒤에 넣어줌\n",
        "\n",
        "list1.sort()\n",
        "print(\"list1.sort(): \",list1) #오름차순 정렬\n",
        "\n",
        "list1.reverse()\n",
        "print(\"list1.reverse(): \",list1) #역순으로 정렬 (오름차순으로 정렬- > 역순으로 정렬 = 내림차순)"
      ],
      "execution_count": null,
      "outputs": [
        {
          "output_type": "stream",
          "text": [
            "list1.append(5):  [1, 2, 3, 4, 5, 5, 6, 7, 5]\n",
            "list1.sort():  [1, 2, 3, 4, 5, 5, 5, 6, 7]\n",
            "list1.reverse():  [7, 6, 5, 5, 5, 4, 3, 2, 1]\n"
          ],
          "name": "stdout"
        }
      ]
    },
    {
      "cell_type": "markdown",
      "metadata": {
        "id": "fKE4zLTmmxZ3"
      },
      "source": [
        "**튜플**<br><br>\n",
        "변수=(값,값,값, ...)<br>\n",
        "리스트와 달리 추가,제거,수정 불가<br>\n",
        "요소가 한 개인 경우 뒤에 , 필수 : (1,)"
      ]
    },
    {
      "cell_type": "code",
      "metadata": {
        "id": "ySMXfAcVmxZ4",
        "outputId": "3df3fcd7-1d43-4e5b-8e4f-649408a487be"
      },
      "source": [
        "tuple1=(1,2,3,5)\n",
        "tuple2=(1,) #요소가 한 개인 경우 뒤에 , 필수\n",
        "tuple3=('a','b','c')\n",
        "tuple4=10,20\n",
        "tuple5=(1,2,3,('a','b'))\n",
        "print(\"tuple1: \",tuple1)\n",
        "print(\"tuple2: \",tuple2)\n",
        "print(\"tuple3: \",tuple3)\n",
        "print(\"tuple4: \",tuple4)\n",
        "print(\"tuple5: \",tuple5)"
      ],
      "execution_count": null,
      "outputs": [
        {
          "output_type": "stream",
          "text": [
            "tuple1:  (1, 2, 3, 5)\n",
            "tuple2:  (1,)\n",
            "tuple3:  ('a', 'b', 'c')\n",
            "tuple4:  (10, 20)\n",
            "tuple5:  (1, 2, 3, ('a', 'b'))\n"
          ],
          "name": "stdout"
        }
      ]
    },
    {
      "cell_type": "markdown",
      "metadata": {
        "id": "4PH_49ZXmxZ5"
      },
      "source": [
        "**튜플 연산**<br><br>\n",
        "+연산 : 연결<br>\n",
        "*연산 : 반복<br>"
      ]
    },
    {
      "cell_type": "code",
      "metadata": {
        "id": "oAP0DUp9mxZ6",
        "outputId": "8e708798-de4f-423d-c6ef-9f3d2ab94cea"
      },
      "source": [
        "tuple1=(1,2,3)\n",
        "tuple2=('a','b','c')\n",
        "print(\"tuple1+tuple2: \",tuple1+tuple2)\n",
        "print(\"tuple2*3: \",tuple2*3)"
      ],
      "execution_count": null,
      "outputs": [
        {
          "output_type": "stream",
          "text": [
            "tuple1+tuple2:  (1, 2, 3, 'a', 'b', 'c')\n",
            "tuple2*3:  ('a', 'b', 'c', 'a', 'b', 'c', 'a', 'b', 'c')\n"
          ],
          "name": "stdout"
        }
      ]
    },
    {
      "cell_type": "markdown",
      "metadata": {
        "id": "cb1YM0XkmxZ7"
      },
      "source": [
        "**문자열 서식 지정**<br><BR>\n",
        "(1)tuple 이용<br>"
      ]
    },
    {
      "cell_type": "code",
      "metadata": {
        "id": "HIw5ZqLamxZ8",
        "outputId": "a0049ef4-337e-441f-d8d0-8ccb9c85277c"
      },
      "source": [
        "print(\"제 이름은 %s이고, 나이는 %d살 입니다.\"%(\"이화인\",22))"
      ],
      "execution_count": null,
      "outputs": [
        {
          "output_type": "stream",
          "text": [
            "제 이름은 이화인이고, 나이는 22살 입니다.\n"
          ],
          "name": "stdout"
        }
      ]
    },
    {
      "cell_type": "markdown",
      "metadata": {
        "id": "jwkO5l4vmxZ9"
      },
      "source": [
        "**부울**<br><br>\n",
        "참:True<br>\n",
        "거짓:False<br>\n",
        "논리 연산/비교 연산에 사용<br>"
      ]
    }
  ]
}