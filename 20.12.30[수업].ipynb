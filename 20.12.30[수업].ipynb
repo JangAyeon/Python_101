{
  "nbformat": 4,
  "nbformat_minor": 0,
  "metadata": {
    "kernelspec": {
      "display_name": "Python 3",
      "language": "python",
      "name": "python3"
    },
    "language_info": {
      "codemirror_mode": {
        "name": "ipython",
        "version": 3
      },
      "file_extension": ".py",
      "mimetype": "text/x-python",
      "name": "python",
      "nbconvert_exporter": "python",
      "pygments_lexer": "ipython3",
      "version": "3.8.5"
    },
    "colab": {
      "name": "20.12.30[수업].ipynb",
      "provenance": [],
      "collapsed_sections": [],
      "include_colab_link": true
    }
  },
  "cells": [
    {
      "cell_type": "markdown",
      "metadata": {
        "id": "view-in-github",
        "colab_type": "text"
      },
      "source": [
        "<a href=\"https://colab.research.google.com/github/JangAyeon/Python_Lecture/blob/master/20.12.30%5B%EC%88%98%EC%97%85%5D.ipynb\" target=\"_parent\"><img src=\"https://colab.research.google.com/assets/colab-badge.svg\" alt=\"Open In Colab\"/></a>"
      ]
    },
    {
      "cell_type": "code",
      "metadata": {
        "id": "Z66rwgTamb39",
        "outputId": "d63d983c-027d-4f64-c00d-82a022f66e01"
      },
      "source": [
        "print(5+2)\n",
        "print(5-2)\n",
        "print(5*2)\n",
        "print(5/2)\n",
        "print(5//2)\n",
        "print(5%2)\n",
        "print(5**2)"
      ],
      "execution_count": null,
      "outputs": [
        {
          "output_type": "stream",
          "text": [
            "7\n",
            "3\n",
            "10\n",
            "2.5\n",
            "2\n",
            "1\n",
            "25\n"
          ],
          "name": "stdout"
        }
      ]
    },
    {
      "cell_type": "code",
      "metadata": {
        "id": "ktiaXyJ6mb4K",
        "outputId": "9a4b0ba5-eb1f-426a-fb78-f1fd954281d6"
      },
      "source": [
        "x=5;y=2\n",
        "print(\"x:\",x,\"y:\",y)\n",
        "x+=y\n",
        "print(\"x:\",x,\"y:\",y)\n",
        "x-=y\n",
        "print(\"x:\",x,\"y:\",y)\n",
        "x*=y\n",
        "print(\"x:\",x,\"y:\",y)\n",
        "x/=y\n",
        "print(\"x:\",x,\"y:\",y)"
      ],
      "execution_count": null,
      "outputs": [
        {
          "output_type": "stream",
          "text": [
            "x: 5 y: 2\n",
            "x: 7 y: 2\n",
            "x: 5 y: 2\n",
            "x: 10 y: 2\n",
            "x: 5.0 y: 2\n"
          ],
          "name": "stdout"
        }
      ]
    },
    {
      "cell_type": "code",
      "metadata": {
        "id": "M39OhqTjmb4N",
        "outputId": "c24d76ac-e6f4-4f4d-9adb-40753b71c26b"
      },
      "source": [
        "x=10;y=2\n",
        "print(\"x:\",x,\"y:\",y)\n",
        "x//=y\n",
        "print(\"x:\",x,\"y:\",y)\n",
        "x%=y\n",
        "print(\"x:\",x,\"y:\",y)\n",
        "x**=y\n",
        "print(\"x:\",x,\"y:\",y)"
      ],
      "execution_count": null,
      "outputs": [
        {
          "output_type": "stream",
          "text": [
            "x: 10 y: 2\n",
            "x: 5 y: 2\n",
            "x: 1 y: 2\n",
            "x: 1 y: 2\n"
          ],
          "name": "stdout"
        }
      ]
    },
    {
      "cell_type": "code",
      "metadata": {
        "id": "ydr9NGe_mb4P",
        "outputId": "5c5d8d59-e58d-4a58-ae9b-5eac70c3fa1d"
      },
      "source": [
        "x=25\n",
        "y=2\n",
        "print(x>y)\n",
        "print(x<y)\n",
        "print(x>=y)\n",
        "print(x<=y)\n",
        "print(x!=y)\n",
        "print(x==y)"
      ],
      "execution_count": null,
      "outputs": [
        {
          "output_type": "stream",
          "text": [
            "True\n",
            "False\n",
            "True\n",
            "False\n",
            "True\n",
            "False\n"
          ],
          "name": "stdout"
        }
      ]
    },
    {
      "cell_type": "code",
      "metadata": {
        "scrolled": true,
        "id": "FoW-xXremb4S",
        "outputId": "5464ddb1-d500-4ef5-e659-4ace7c813991"
      },
      "source": [
        "A=True\n",
        "B=False\n",
        "print(A and B)\n",
        "print(A or B)\n",
        "print(not A)\n",
        "print(not B)"
      ],
      "execution_count": null,
      "outputs": [
        {
          "output_type": "stream",
          "text": [
            "False\n",
            "True\n",
            "False\n",
            "True\n"
          ],
          "name": "stdout"
        }
      ]
    },
    {
      "cell_type": "code",
      "metadata": {
        "id": "JghLgWA3mb4V",
        "outputId": "28c9c7f6-8d61-4ab7-bc19-1338920cb5f8"
      },
      "source": [
        "X=12 #1100\n",
        "Y=10 #1010\n",
        "\n",
        "print(X&Y) #1000\n",
        "print(X|Y) #1110\n",
        "print(X^Y) #0110\n",
        "print(~X) #0011 -> 2의 보수 뒤에서 설명함\n",
        "print(~Y) #0101\n",
        "\n",
        "print(X<<2) #110000\n",
        "print(Y>>2) #10"
      ],
      "execution_count": null,
      "outputs": [
        {
          "output_type": "stream",
          "text": [
            "8\n",
            "14\n",
            "6\n",
            "-13\n",
            "-11\n",
            "48\n",
            "2\n"
          ],
          "name": "stdout"
        }
      ]
    }
  ]
}