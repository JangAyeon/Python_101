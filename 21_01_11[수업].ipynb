{
  "nbformat": 4,
  "nbformat_minor": 0,
  "metadata": {
    "colab": {
      "name": "21.01.11[수업].ipynb",
      "provenance": [],
      "authorship_tag": "ABX9TyOartU7U5vDtHA5c9i1sHy8",
      "include_colab_link": true
    },
    "kernelspec": {
      "name": "python3",
      "display_name": "Python 3"
    }
  },
  "cells": [
    {
      "cell_type": "markdown",
      "metadata": {
        "id": "view-in-github",
        "colab_type": "text"
      },
      "source": [
        "<a href=\"https://colab.research.google.com/github/JangAyeon/Python_Lecture/blob/master/21_01_11%5B%EC%88%98%EC%97%85%5D.ipynb\" target=\"_parent\"><img src=\"https://colab.research.google.com/assets/colab-badge.svg\" alt=\"Open In Colab\"/></a>"
      ]
    },
    {
      "cell_type": "markdown",
      "metadata": {
        "id": "5e7yGiRMwbLj"
      },
      "source": [
        "**지역변수**<br>\r\n",
        "\r\n",
        ":함수 내에서만 생성, 사용 가능한 변수\r\n",
        "\r\n",
        "\r\n",
        "\r\n",
        "*   지역변수의 생성과 해제<br>\r\n",
        "함수 호출 시 지역변수 생성, 함수 종료 시 지역변수 소멸<br>->함수 벗어나면 자동으로 소멸<br>->함수 밖에서 지역변수에 접근하면 오류 발생<br><br>\r\n",
        "*   서로 다른 함수들 내에서 같은 이름의 지역변수 사용 가능\r\n",
        "\r\n"
      ]
    },
    {
      "cell_type": "code",
      "metadata": {
        "colab": {
          "base_uri": "https://localhost:8080/",
          "height": 259
        },
        "id": "drYR9kYFwU5E",
        "outputId": "c3206469-3035-437b-a5a4-51f5afb89437"
      },
      "source": [
        "def plus(n): #plus 함수 호출하며 n이라는 매개변수 생성하고 5를 할당\r\n",
        "  result=n+5 #result 변수 생성하고 표현식 계산 후 해당 값 할당\r\n",
        "  print(result) #result 값 출력\r\n",
        "\r\n",
        "plus(5) #(1)5를 가지고 plus 함수 호출\r\n",
        "print(result) #오류 발생 : plus 함수 내에서만 사용 가능한 지역 변수이기 때문\r\n",
        "\r\n",
        "#n과 result는 지역변수"
      ],
      "execution_count": null,
      "outputs": [
        {
          "output_type": "stream",
          "text": [
            "10\n"
          ],
          "name": "stdout"
        },
        {
          "output_type": "error",
          "ename": "NameError",
          "evalue": "ignored",
          "traceback": [
            "\u001b[0;31m---------------------------------------------------------------------------\u001b[0m",
            "\u001b[0;31mNameError\u001b[0m                                 Traceback (most recent call last)",
            "\u001b[0;32m<ipython-input-4-c13e1f20f30c>\u001b[0m in \u001b[0;36m<module>\u001b[0;34m()\u001b[0m\n\u001b[1;32m      4\u001b[0m \u001b[0;34m\u001b[0m\u001b[0m\n\u001b[1;32m      5\u001b[0m \u001b[0mplus\u001b[0m\u001b[0;34m(\u001b[0m\u001b[0;36m5\u001b[0m\u001b[0;34m)\u001b[0m \u001b[0;31m#(1)5를 호출\u001b[0m\u001b[0;34m\u001b[0m\u001b[0;34m\u001b[0m\u001b[0m\n\u001b[0;32m----> 6\u001b[0;31m \u001b[0mprint\u001b[0m\u001b[0;34m(\u001b[0m\u001b[0mresult\u001b[0m\u001b[0;34m)\u001b[0m \u001b[0;31m#오류 발생 : plus 함수 내에서만 사용 가능한 지역 변수이기 때문\u001b[0m\u001b[0;34m\u001b[0m\u001b[0;34m\u001b[0m\u001b[0m\n\u001b[0m\u001b[1;32m      7\u001b[0m \u001b[0;34m\u001b[0m\u001b[0m\n\u001b[1;32m      8\u001b[0m \u001b[0;31m#n과 result는 지역변수\u001b[0m\u001b[0;34m\u001b[0m\u001b[0;34m\u001b[0m\u001b[0;34m\u001b[0m\u001b[0m\n",
            "\u001b[0;31mNameError\u001b[0m: name 'result' is not defined"
          ]
        }
      ]
    },
    {
      "cell_type": "code",
      "metadata": {
        "colab": {
          "base_uri": "https://localhost:8080/"
        },
        "id": "UXb5X1qexFpn",
        "outputId": "f84cc6e6-a120-4090-a192-38c64810230d"
      },
      "source": [
        "def plus(n):\r\n",
        "  print(\"n=\",n)\r\n",
        "  result=n+5\r\n",
        "  print(\"result=\",result)\r\n",
        "\r\n",
        "plus(5)"
      ],
      "execution_count": null,
      "outputs": [
        {
          "output_type": "stream",
          "text": [
            "n= 5\n",
            "result= 10\n"
          ],
          "name": "stdout"
        }
      ]
    },
    {
      "cell_type": "code",
      "metadata": {
        "colab": {
          "base_uri": "https://localhost:8080/"
        },
        "id": "lJTJ7_XPyDps",
        "outputId": "83d679ec-a4d7-4021-c807-932f66ce833f"
      },
      "source": [
        "def plus(n):\r\n",
        "  print(\"n=\",n)\r\n",
        "  result=n+5\r\n",
        "  print(\"result=\",result)\r\n",
        "\r\n",
        "def minus(n):\r\n",
        "  print(\"n=\",n)\r\n",
        "  result=n-5\r\n",
        "  print(\"result=\",result)\r\n",
        "\r\n",
        "plus(5)\r\n",
        "minus(5)\r\n",
        "\r\n",
        "'''\r\n",
        "#같은 변수 이름 n과 result를 다른 함수 내에서 사용 가능\r\n",
        "plus함수 호출 -> n과 result변수 생성 -> plus함수 끝나면서 n과 result 변수 소멸\r\n",
        "->minus 함ㅅ 호출 -> n과 result 변수 생성 -> minus함수 끝나면서 n과 result 변수 소멸\r\n",
        "'''"
      ],
      "execution_count": null,
      "outputs": [
        {
          "output_type": "stream",
          "text": [
            "n= 5\n",
            "result= 10\n",
            "n= 5\n",
            "result= 0\n"
          ],
          "name": "stdout"
        }
      ]
    },
    {
      "cell_type": "markdown",
      "metadata": {
        "id": "ee7LPlYbzrBP"
      },
      "source": [
        "**전역변수**"
      ]
    },
    {
      "cell_type": "markdown",
      "metadata": {
        "id": "o9vKxPRtztXZ"
      },
      "source": [
        "\r\n",
        "\r\n",
        "*   함수 외부에서 생성 / 소스코드 모든 부분(함수 내부, 외부)에서 사용가능\r\n",
        "\r\n"
      ]
    },
    {
      "cell_type": "code",
      "metadata": {
        "colab": {
          "base_uri": "https://localhost:8080/"
        },
        "id": "IO-7Alvuylzt",
        "outputId": "e17e34fd-ada8-4cb6-de25-3cfa44d9703d"
      },
      "source": [
        "step=7\r\n",
        "def plus(n):\r\n",
        "  result=n+step\r\n",
        "  print(\"함수 내부 : result : \",result)\r\n",
        "\r\n",
        "plus(7)\r\n",
        "print(\"함수 외부 : step : \",step)"
      ],
      "execution_count": null,
      "outputs": [
        {
          "output_type": "stream",
          "text": [
            "함수 내부 : result :  14\n",
            "함수 외부 : step :  7\n"
          ],
          "name": "stdout"
        }
      ]
    },
    {
      "cell_type": "markdown",
      "metadata": {
        "id": "6J2I-DHi0Mn5"
      },
      "source": [
        "\r\n",
        "\r\n",
        "*   global 키워드 이용해 함수 내부에서 전역변수 생성\r\n",
        "\r\n",
        "\r\n"
      ]
    },
    {
      "cell_type": "code",
      "metadata": {
        "colab": {
          "base_uri": "https://localhost:8080/"
        },
        "id": "pBf4UbJX0FiN",
        "outputId": "3a8f453e-fb90-411c-ca1a-5329b27b3cf2"
      },
      "source": [
        "def plus(n):\r\n",
        "  global x\r\n",
        "  x=3\r\n",
        "  result=n+x\r\n",
        "  print(\"함수 내부 : result : \",result)\r\n",
        "\r\n",
        "plus(3)\r\n",
        "print(\"함수 외부 : x : \",x)\r\n",
        "#plus 함수 안에서 x값 선언했는데 외부에서 접근 가능함\r\n",
        "#global 키워드 이용해 전역변수로 생성해서"
      ],
      "execution_count": null,
      "outputs": [
        {
          "output_type": "stream",
          "text": [
            "함수 내부 : result :  6\n",
            "함수 외부 : x :  3\n"
          ],
          "name": "stdout"
        }
      ]
    },
    {
      "cell_type": "code",
      "metadata": {
        "colab": {
          "base_uri": "https://localhost:8080/"
        },
        "id": "Ubtx5zNr0gtU",
        "outputId": "054c296d-d036-4d8f-aea7-d40b87836d9b"
      },
      "source": [
        "def plus(n):\r\n",
        "  global x\r\n",
        "  x=3\r\n",
        "  result=n+x\r\n",
        "  print(\"함수 내부 : result : \",result)\r\n",
        "\r\n",
        "plus(3)\r\n",
        "print(\"함수 외부 : x : \",x)\r\n",
        "\r\n",
        "x=10\r\n",
        "plus(x)\r\n",
        "print(\"함수 외부 : x : \",x) # x값은 10이 아니라 plus함수 거치면서 3임"
      ],
      "execution_count": null,
      "outputs": [
        {
          "output_type": "stream",
          "text": [
            "함수 내부 : result :  6\n",
            "함수 외부 : x :  3\n",
            "함수 내부 : result :  13\n",
            "함수 외부 : x :  3\n"
          ],
          "name": "stdout"
        }
      ]
    },
    {
      "cell_type": "markdown",
      "metadata": {
        "id": "2SECyF3T1yGE"
      },
      "source": [
        "**변수의 유효범위**<br>\r\n",
        "\r\n",
        "\r\n",
        "\r\n",
        "*   지역변수 : 정의된 행 ~ 함수 끝\r\n",
        "*   전역변수 : 정의된 행 ~ 프로그램 끝\r\n",
        "\r\n"
      ]
    },
    {
      "cell_type": "markdown",
      "metadata": {
        "id": "5O8w5teT1-OD"
      },
      "source": [
        "![image.png](data:image/png;base64,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)"
      ]
    },
    {
      "cell_type": "markdown",
      "metadata": {
        "id": "2_1CZegE3cW2"
      },
      "source": [
        "**네임스페이스**\r\n",
        "\r\n",
        "\r\n",
        "*   이름을 위한 저장 공간\r\n",
        "*   변수명 재사용<br>->함수 매개변수 x와 함수 밖 변수 x는 서로 다른 변수<br>->지역변수가 저장되는 네임스페이스와 쉘의 변수가 저장되는 네임스페이스 다름\r\n",
        "\r\n",
        "\r\n"
      ]
    },
    {
      "cell_type": "code",
      "metadata": {
        "colab": {
          "base_uri": "https://localhost:8080/"
        },
        "id": "f9TrA8RF1R1R",
        "outputId": "35530e23-fae1-4519-c821-8888ec165b8c"
      },
      "source": [
        "x=10\r\n",
        "print(x)\r\n",
        "\r\n",
        "def plus(x):\r\n",
        "  x+=5\r\n",
        "  return x\r\n",
        "\r\n",
        "print(x)\r\n",
        "print(\"plus(x) : \",plus(x))\r\n",
        "print(\"x : \",x)\r\n",
        "print(\"plus(x+1) : \", plus(x+1))"
      ],
      "execution_count": null,
      "outputs": [
        {
          "output_type": "stream",
          "text": [
            "10\n",
            "10\n",
            "plus(x) :  15\n",
            "x :  10\n",
            "plus(x+1) :  16\n"
          ],
          "name": "stdout"
        }
      ]
    },
    {
      "cell_type": "code",
      "metadata": {
        "colab": {
          "base_uri": "https://localhost:8080/"
        },
        "id": "Rb2-PZ5x4Z2W",
        "outputId": "0a4ab9aa-4002-402b-99ed-41592177d618"
      },
      "source": [
        "def plus(x):\r\n",
        "  result=x+5\r\n",
        "  return result\r\n",
        "  \r\n",
        "def minus(x):\r\n",
        "  result=x-5\r\n",
        "  return result\r\n",
        "\r\n",
        "print(plus(20))\r\n",
        "print(minus(21))"
      ],
      "execution_count": null,
      "outputs": [
        {
          "output_type": "stream",
          "text": [
            "25\n",
            "16\n"
          ],
          "name": "stdout"
        }
      ]
    },
    {
      "cell_type": "code",
      "metadata": {
        "colab": {
          "base_uri": "https://localhost:8080/"
        },
        "id": "R8QnLmcs5CCY",
        "outputId": "157c9f27-f635-4159-ab4f-654cc636b285"
      },
      "source": [
        "def plus(x):\r\n",
        "  result=x+5\r\n",
        "  return result\r\n",
        "\r\n",
        "print(plus(20))\r\n",
        "print(plus(1))\r\n",
        "print(plus(9))"
      ],
      "execution_count": null,
      "outputs": [
        {
          "output_type": "stream",
          "text": [
            "25\n",
            "6\n",
            "14\n"
          ],
          "name": "stdout"
        }
      ]
    },
    {
      "cell_type": "code",
      "metadata": {
        "colab": {
          "base_uri": "https://localhost:8080/"
        },
        "id": "Ekbse6uS5KaF",
        "outputId": "0e4376a7-0838-4c23-8466-ad15cfb4e8d1"
      },
      "source": [
        "result=10\r\n",
        "print(result)\r\n",
        "def plus(x):\r\n",
        "  result=x+5\r\n",
        "  return result\r\n",
        "\r\n",
        "print(\"plus(20): \",plus(20))\r\n",
        "print(result)\r\n",
        "result+=10\r\n",
        "print(result)"
      ],
      "execution_count": null,
      "outputs": [
        {
          "output_type": "stream",
          "text": [
            "10\n",
            "plus(20):  25\n",
            "10\n",
            "20\n"
          ],
          "name": "stdout"
        }
      ]
    },
    {
      "cell_type": "markdown",
      "metadata": {
        "id": "UmV6p6p651i_"
      },
      "source": [
        "**return문 생략**<br>\r\n",
        "\r\n",
        "\r\n",
        "*   return 문이 없는 함수는 None(값이 없음) 반환 \r\n",
        "\r\n"
      ]
    },
    {
      "cell_type": "code",
      "metadata": {
        "colab": {
          "base_uri": "https://localhost:8080/"
        },
        "id": "uvFf6Thi5XCo",
        "outputId": "61b08b4f-7815-4ab8-818b-d290b5707dbf"
      },
      "source": [
        "def plus(x):\r\n",
        "  x+=5\r\n",
        "\r\n",
        "print(\"plus(5) : \",plus(5))\r\n",
        "result=plus(5)\r\n",
        "print(result)\r\n",
        "\r\n",
        "if result:\r\n",
        "  print(\"True\")\r\n",
        "else:\r\n",
        "  print(\"False\")"
      ],
      "execution_count": null,
      "outputs": [
        {
          "output_type": "stream",
          "text": [
            "plus(5) :  None\n",
            "None\n",
            "False\n"
          ],
          "name": "stdout"
        }
      ]
    },
    {
      "cell_type": "markdown",
      "metadata": {
        "id": "-UTMohKh6tfj"
      },
      "source": [
        "**함수 설계**<br>\r\n",
        "\r\n",
        "\r\n",
        "*   함수명\r\n",
        "*   함수에서 할 일\r\n",
        "*   매개 변수\r\n",
        "*   매개 변수는 어떤 일을 수행\r\n",
        "*   함수의 반환값\r\n",
        "*   함수 동작 확인\r\n",
        "\r\n"
      ]
    },
    {
      "cell_type": "markdown",
      "metadata": {
        "id": "n8WHdfE280_o"
      },
      "source": [
        "**0부터 100 사이의 점수 3개를 입력 받아, 세 점수의 평균을 반환하는 함수 정의**<br>\r\n",
        "average/점수 3개 받고 3으로 나눠서 반환/점수 3개/평균 계산에 활용됨/평균을 반환"
      ]
    },
    {
      "cell_type": "code",
      "metadata": {
        "colab": {
          "base_uri": "https://localhost:8080/"
        },
        "id": "PGgIdTRN6Lrf",
        "outputId": "560e07a7-c79f-4db6-f2c4-a455c9577deb"
      },
      "source": [
        "def average(score1,score2,score3):\r\n",
        "  result=(score1+score2+score3)/3 #괄호로 묶어줘야 함\r\n",
        "  return result\r\n",
        "\r\n",
        "average(80,85,92)"
      ],
      "execution_count": null,
      "outputs": [
        {
          "output_type": "execute_result",
          "data": {
            "text/plain": [
              "85.66666666666667"
            ]
          },
          "metadata": {
            "tags": []
          },
          "execution_count": 30
        }
      ]
    },
    {
      "cell_type": "code",
      "metadata": {
        "colab": {
          "base_uri": "https://localhost:8080/"
        },
        "id": "etA6WLqv9X5C",
        "outputId": "85a24681-5c66-40dd-ceae-2f37a7f2509a"
      },
      "source": [
        "def average_two(score1,score2):\r\n",
        "\r\n",
        "  if score1>100 or score1<0:  #score1가 0~100 아닌 경우\r\n",
        "    print(\"invalid input\")\r\n",
        "    return\r\n",
        "  elif score2>100 or score2<0:  #score2가 0~100 아닌 경우\r\n",
        "    print(\"invalid input\")\r\n",
        "    return\r\n",
        "  else:  #score1가 0~100이고 score2가 0~100인 경우\r\n",
        "    result=(score1+score2)/3 #괄호로 묶어줘야 함\r\n",
        "    return result\r\n",
        "\r\n",
        "average_two(80,85)"
      ],
      "execution_count": null,
      "outputs": [
        {
          "output_type": "execute_result",
          "data": {
            "text/plain": [
              "55.0"
            ]
          },
          "metadata": {
            "tags": []
          },
          "execution_count": 34
        }
      ]
    },
    {
      "cell_type": "code",
      "metadata": {
        "id": "SZvC6Ek--YZy"
      },
      "source": [
        ""
      ],
      "execution_count": null,
      "outputs": []
    }
  ]
}